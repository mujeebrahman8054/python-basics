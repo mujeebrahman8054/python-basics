{
 "cells": [
  {
   "cell_type": "code",
   "execution_count": 2,
   "id": "74323e09",
   "metadata": {},
   "outputs": [
    {
     "name": "stdout",
     "output_type": "stream",
     "text": [
      "[32, 34, 23, 245]\n"
     ]
    }
   ],
   "source": [
    "a=[32,34,23,245]\n",
    "print (a)\n"
   ]
  },
  {
   "cell_type": "code",
   "execution_count": 3,
   "id": "ee52fe73",
   "metadata": {},
   "outputs": [
    {
     "data": {
      "text/plain": [
       "list"
      ]
     },
     "execution_count": 3,
     "metadata": {},
     "output_type": "execute_result"
    }
   ],
   "source": [
    "type(a)"
   ]
  },
  {
   "cell_type": "code",
   "execution_count": 6,
   "id": "94adc302",
   "metadata": {},
   "outputs": [
    {
     "name": "stdout",
     "output_type": "stream",
     "text": [
      "[1, 'hello', 3, 4]\n"
     ]
    },
    {
     "data": {
      "text/plain": [
       "list"
      ]
     },
     "execution_count": 6,
     "metadata": {},
     "output_type": "execute_result"
    }
   ],
   "source": [
    "a=[1,\"hello\",3,4]\n",
    "print(a)\n",
    "type(a)"
   ]
  },
  {
   "cell_type": "code",
   "execution_count": 8,
   "id": "fbe656fc",
   "metadata": {},
   "outputs": [
    {
     "name": "stdout",
     "output_type": "stream",
     "text": [
      "['welcome', [1, 2, 3]]\n"
     ]
    },
    {
     "data": {
      "text/plain": [
       "list"
      ]
     },
     "execution_count": 8,
     "metadata": {},
     "output_type": "execute_result"
    }
   ],
   "source": [
    "a=[\"welcome\",[1,2,3]]\n",
    "print(a)\n",
    "type(list(a))"
   ]
  },
  {
   "cell_type": "code",
   "execution_count": 9,
   "id": "9a98bb1e",
   "metadata": {},
   "outputs": [
    {
     "name": "stdout",
     "output_type": "stream",
     "text": [
      "list[3]\n"
     ]
    }
   ],
   "source": [
    "a=[4,3,5,6,2,9,6]\n",
    "print(list[3])"
   ]
  },
  {
   "cell_type": "code",
   "execution_count": 10,
   "id": "571aadcf",
   "metadata": {},
   "outputs": [
    {
     "name": "stdout",
     "output_type": "stream",
     "text": [
      "[56, 76, 98, 43]\n"
     ]
    }
   ],
   "source": [
    "mark=[56,76,98,43]\n",
    "print(mark)"
   ]
  },
  {
   "cell_type": "code",
   "execution_count": 11,
   "id": "aa038505",
   "metadata": {},
   "outputs": [
    {
     "name": "stdout",
     "output_type": "stream",
     "text": [
      "[56, 100, 98, 43]\n"
     ]
    }
   ],
   "source": [
    "mark[1]=100\n",
    "print(mark)"
   ]
  },
  {
   "cell_type": "code",
   "execution_count": 13,
   "id": "33b68b95",
   "metadata": {},
   "outputs": [
    {
     "name": "stdout",
     "output_type": "stream",
     "text": [
      "[56, 100, 98, 43, 99, 99]\n"
     ]
    }
   ],
   "source": [
    "mark.append(99)\n",
    "print(mark)"
   ]
  },
  {
   "cell_type": "code",
   "execution_count": 16,
   "id": "881ad7db",
   "metadata": {},
   "outputs": [
    {
     "name": "stdout",
     "output_type": "stream",
     "text": [
      "[56, 100, 98, 43, 99, 99, 45, 54, 34]\n"
     ]
    }
   ],
   "source": [
    "mark.extend([45,54,34])\n",
    "print(mark)"
   ]
  },
  {
   "cell_type": "code",
   "execution_count": 17,
   "id": "1f052462",
   "metadata": {},
   "outputs": [
    {
     "name": "stdout",
     "output_type": "stream",
     "text": [
      "[56, 100, 98, 43, 70, 99, 99, 45, 54, 34]\n"
     ]
    }
   ],
   "source": [
    "mark.insert(4,70)\n",
    "print(mark)"
   ]
  },
  {
   "cell_type": "code",
   "execution_count": 20,
   "id": "ccdd3b22",
   "metadata": {},
   "outputs": [
    {
     "name": "stdout",
     "output_type": "stream",
     "text": [
      "[56, 100, 98, 43, 70, 99, 99, 45, 54, 34]\n"
     ]
    }
   ],
   "source": [
    "print(mark)"
   ]
  },
  {
   "cell_type": "code",
   "execution_count": 24,
   "id": "93fd077c",
   "metadata": {},
   "outputs": [
    {
     "name": "stdout",
     "output_type": "stream",
     "text": [
      "[56, 100, 98, 43, 70, 99, 45, 54, 34]\n"
     ]
    }
   ],
   "source": [
    "del mark[5]\n",
    "print(mark)"
   ]
  },
  {
   "cell_type": "code",
   "execution_count": 25,
   "id": "243037d0",
   "metadata": {},
   "outputs": [
    {
     "name": "stdout",
     "output_type": "stream",
     "text": [
      "[56, 100, 98, 43, 70, 99, 45, 34]\n"
     ]
    }
   ],
   "source": [
    "mark.remove(54)\n",
    "print(mark)"
   ]
  },
  {
   "cell_type": "code",
   "execution_count": 26,
   "id": "459bf616",
   "metadata": {},
   "outputs": [
    {
     "data": {
      "text/plain": [
       "100"
      ]
     },
     "execution_count": 26,
     "metadata": {},
     "output_type": "execute_result"
    }
   ],
   "source": [
    "mark.pop(1)"
   ]
  },
  {
   "cell_type": "code",
   "execution_count": 27,
   "id": "78e256ba",
   "metadata": {},
   "outputs": [
    {
     "name": "stdout",
     "output_type": "stream",
     "text": [
      "[56, 98, 43, 70, 99, 45, 34]\n"
     ]
    }
   ],
   "source": [
    "print(mark)"
   ]
  },
  {
   "cell_type": "code",
   "execution_count": 28,
   "id": "1c013503",
   "metadata": {},
   "outputs": [
    {
     "name": "stdout",
     "output_type": "stream",
     "text": [
      "[56, 98, 43, 70, 99]\n"
     ]
    }
   ],
   "source": [
    "print(mark[0:5])"
   ]
  },
  {
   "cell_type": "code",
   "execution_count": 31,
   "id": "898cd3a2",
   "metadata": {},
   "outputs": [
    {
     "name": "stdout",
     "output_type": "stream",
     "text": [
      "[99, 45]\n"
     ]
    }
   ],
   "source": [
    "print(mark[-3:-1])"
   ]
  },
  {
   "cell_type": "code",
   "execution_count": 33,
   "id": "6de76c88",
   "metadata": {},
   "outputs": [
    {
     "name": "stdout",
     "output_type": "stream",
     "text": [
      "['a', 'b', 'c']\n"
     ]
    }
   ],
   "source": [
    "let=[\"a\",\"b\",\"c\"]\n",
    "print(let)"
   ]
  },
  {
   "cell_type": "code",
   "execution_count": 35,
   "id": "77a33b23",
   "metadata": {},
   "outputs": [
    {
     "name": "stdout",
     "output_type": "stream",
     "text": [
      "['a', 'b', 'c', 'd']\n"
     ]
    }
   ],
   "source": [
    "let.append(\"d\")\n",
    "print(let)"
   ]
  },
  {
   "cell_type": "code",
   "execution_count": 37,
   "id": "f5959bad",
   "metadata": {},
   "outputs": [
    {
     "name": "stdout",
     "output_type": "stream",
     "text": [
      "['a', 'b', 'c', 'd', ['e', 'f', 'g'], ['e', 'f', 'g']]\n"
     ]
    }
   ],
   "source": [
    "let1=[\"e\",\"f\",\"g\"]\n",
    "let.append(let1)\n",
    "print(let)"
   ]
  },
  {
   "cell_type": "code",
   "execution_count": 38,
   "id": "e2c4af9c",
   "metadata": {},
   "outputs": [
    {
     "name": "stdout",
     "output_type": "stream",
     "text": [
      "['a', 'b', 'c', 'd', ['e', 'f', 'g']]\n"
     ]
    }
   ],
   "source": [
    "del let[5]\n",
    "print(let)"
   ]
  },
  {
   "cell_type": "code",
   "execution_count": 39,
   "id": "c619fec1",
   "metadata": {},
   "outputs": [
    {
     "name": "stdout",
     "output_type": "stream",
     "text": [
      "[56, 98, 43, 70, 99, 45, 34]\n"
     ]
    }
   ],
   "source": [
    "print(mark)"
   ]
  },
  {
   "cell_type": "code",
   "execution_count": 40,
   "id": "8b0cbf82",
   "metadata": {},
   "outputs": [
    {
     "name": "stdout",
     "output_type": "stream",
     "text": [
      "[56, 98, 43, 70, 99, 45, 34, 45]\n"
     ]
    }
   ],
   "source": [
    "mark.append(45)\n",
    "print(mark)"
   ]
  },
  {
   "cell_type": "code",
   "execution_count": 42,
   "id": "226f7cf5",
   "metadata": {},
   "outputs": [
    {
     "data": {
      "text/plain": [
       "1"
      ]
     },
     "execution_count": 42,
     "metadata": {},
     "output_type": "execute_result"
    }
   ],
   "source": [
    "mark.count(99)"
   ]
  },
  {
   "cell_type": "code",
   "execution_count": 43,
   "id": "1843edb9",
   "metadata": {},
   "outputs": [
    {
     "data": {
      "text/plain": [
       "2"
      ]
     },
     "execution_count": 43,
     "metadata": {},
     "output_type": "execute_result"
    }
   ],
   "source": [
    "mark.count(45)"
   ]
  },
  {
   "cell_type": "code",
   "execution_count": 45,
   "id": "3613461a",
   "metadata": {},
   "outputs": [
    {
     "data": {
      "text/plain": [
       "2"
      ]
     },
     "execution_count": 45,
     "metadata": {},
     "output_type": "execute_result"
    }
   ],
   "source": [
    "a=[\"d\",(\"g\",\"h\"),(\"g\",\"h\")]\n",
    "a.count((\"g\",\"h\"))"
   ]
  },
  {
   "cell_type": "code",
   "execution_count": 47,
   "id": "1dca3215",
   "metadata": {},
   "outputs": [
    {
     "name": "stdout",
     "output_type": "stream",
     "text": [
      "['c', 'c++', 'java', 'python', 'php']\n"
     ]
    }
   ],
   "source": [
    "ext=[\"c\",\"c++\",\"java\"]\n",
    "ext1=[\"python\",\"php\"]\n",
    "ext.extend(ext1)\n",
    "print(ext)"
   ]
  },
  {
   "cell_type": "code",
   "execution_count": 48,
   "id": "4eff551d",
   "metadata": {},
   "outputs": [
    {
     "name": "stdout",
     "output_type": "stream",
     "text": [
      "['c', 'c++', 'java', 'python', 'php']\n"
     ]
    }
   ],
   "source": [
    "ext=[\"c\",\"c++\",\"java\"]\n",
    "ext1=(\"python\",\"php\")\n",
    "ext.extend(ext1)\n",
    "print(ext)"
   ]
  },
  {
   "cell_type": "code",
   "execution_count": 49,
   "id": "b1756799",
   "metadata": {},
   "outputs": [
    {
     "name": "stdout",
     "output_type": "stream",
     "text": [
      "['c', 'c++', 'java', 'php']\n"
     ]
    }
   ],
   "source": [
    "ext.pop(3)\n",
    "print(ext)"
   ]
  },
  {
   "cell_type": "code",
   "execution_count": 50,
   "id": "213f934c",
   "metadata": {},
   "outputs": [
    {
     "data": {
      "text/plain": [
       "'php'"
      ]
     },
     "execution_count": 50,
     "metadata": {},
     "output_type": "execute_result"
    }
   ],
   "source": [
    "ext.pop()"
   ]
  },
  {
   "cell_type": "code",
   "execution_count": 51,
   "id": "2d00cbcc",
   "metadata": {},
   "outputs": [
    {
     "name": "stdout",
     "output_type": "stream",
     "text": [
      "['c', 'c++', 'java']\n"
     ]
    }
   ],
   "source": [
    "print(ext)"
   ]
  },
  {
   "cell_type": "code",
   "execution_count": 53,
   "id": "44aa5b1c",
   "metadata": {},
   "outputs": [],
   "source": [
    "copy=ext"
   ]
  },
  {
   "cell_type": "code",
   "execution_count": 54,
   "id": "5c179f0c",
   "metadata": {},
   "outputs": [
    {
     "name": "stdout",
     "output_type": "stream",
     "text": [
      "['c', 'c++', 'java']\n"
     ]
    }
   ],
   "source": [
    "print(copy)"
   ]
  },
  {
   "cell_type": "code",
   "execution_count": 55,
   "id": "cd6712e8",
   "metadata": {},
   "outputs": [],
   "source": [
    "copy.append(\"php\")"
   ]
  },
  {
   "cell_type": "code",
   "execution_count": 56,
   "id": "58b525f8",
   "metadata": {},
   "outputs": [
    {
     "name": "stdout",
     "output_type": "stream",
     "text": [
      "['c', 'c++', 'java', 'php']\n",
      "['c', 'c++', 'java', 'php']\n"
     ]
    }
   ],
   "source": [
    "print(ext)\n",
    "print(copy)"
   ]
  },
  {
   "cell_type": "code",
   "execution_count": 57,
   "id": "1e200121",
   "metadata": {},
   "outputs": [],
   "source": [
    "copy=ext[:]\n",
    "copy.append(\"cobol\")"
   ]
  },
  {
   "cell_type": "code",
   "execution_count": 59,
   "id": "643971fd",
   "metadata": {},
   "outputs": [
    {
     "name": "stdout",
     "output_type": "stream",
     "text": [
      "['c', 'c++', 'java', 'php']\n",
      "['c', 'c++', 'java', 'php', 'cobol']\n"
     ]
    }
   ],
   "source": [
    "print(ext)\n",
    "print(copy)"
   ]
  },
  {
   "cell_type": "code",
   "execution_count": 60,
   "id": "fe7b995f",
   "metadata": {},
   "outputs": [],
   "source": [
    "copy.reverse()"
   ]
  },
  {
   "cell_type": "code",
   "execution_count": 61,
   "id": "17a097ad",
   "metadata": {},
   "outputs": [
    {
     "name": "stdout",
     "output_type": "stream",
     "text": [
      "['cobol', 'php', 'java', 'c++', 'c']\n"
     ]
    }
   ],
   "source": [
    "print(copy)"
   ]
  },
  {
   "cell_type": "code",
   "execution_count": 62,
   "id": "69667db5",
   "metadata": {},
   "outputs": [
    {
     "name": "stdout",
     "output_type": "stream",
     "text": [
      "[56, 98, 43, 70, 99, 45, 34, 45]\n"
     ]
    }
   ],
   "source": [
    "print(mark)"
   ]
  },
  {
   "cell_type": "code",
   "execution_count": 63,
   "id": "6aebcba8",
   "metadata": {},
   "outputs": [],
   "source": [
    "mark.sort()"
   ]
  },
  {
   "cell_type": "code",
   "execution_count": 64,
   "id": "ca677628",
   "metadata": {},
   "outputs": [
    {
     "name": "stdout",
     "output_type": "stream",
     "text": [
      "[34, 43, 45, 45, 56, 70, 98, 99]\n"
     ]
    }
   ],
   "source": [
    "print(mark)"
   ]
  },
  {
   "cell_type": "code",
   "execution_count": 8,
   "id": "fcbd796a",
   "metadata": {},
   "outputs": [
    {
     "name": "stdout",
     "output_type": "stream",
     "text": [
      "[139, 143, 143, 145, 149, 149, 150, 150, 152, 155, 155, 158, 159, 161, 163, 165, 167, 169, 170, 170, 170, 170, 171, 172, 174, 174, 174, 177, 177, 178, 179, 181, 182, 182, 183, 183, 185, 187, 190, 190, 191]\n"
     ]
    }
   ],
   "source": [
    "a=[171,149,169,161,150,182,155,150,163,155,152,149,183,158,174,191,159,174,185,174,177,170,178,181,172,179,170,177,190,182,183,170,170,190,143,145,139,165,143,167,187]\n",
    "a.sort()\n",
    "print(a)"
   ]
  },
  {
   "cell_type": "code",
   "execution_count": null,
   "id": "6e7f95b2",
   "metadata": {},
   "outputs": [],
   "source": []
  },
  {
   "cell_type": "code",
   "execution_count": null,
   "id": "12a9edaf",
   "metadata": {},
   "outputs": [],
   "source": []
  }
 ],
 "metadata": {
  "kernelspec": {
   "display_name": "Python 3 (ipykernel)",
   "language": "python",
   "name": "python3"
  },
  "language_info": {
   "codemirror_mode": {
    "name": "ipython",
    "version": 3
   },
   "file_extension": ".py",
   "mimetype": "text/x-python",
   "name": "python",
   "nbconvert_exporter": "python",
   "pygments_lexer": "ipython3",
   "version": "3.9.12"
  }
 },
 "nbformat": 4,
 "nbformat_minor": 5
}
