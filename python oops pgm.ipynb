{
 "cells": [
  {
   "cell_type": "code",
   "execution_count": 18,
   "id": "4cab41c9",
   "metadata": {},
   "outputs": [
    {
     "name": "stdout",
     "output_type": "stream",
     "text": [
      "student name : mujeeb  roll number : 5\n",
      "age :  25\n",
      "mark :  40\n"
     ]
    }
   ],
   "source": [
    "class student:\n",
    "    def __init__(self,name,roll_no):\n",
    "        self.name=name\n",
    "        self.roll_no=roll_no\n",
    "    def display(self):\n",
    "        print(\"student name : {}  roll number : {}\".format(self.name,self.roll_no))\n",
    "    def setage(self,age):\n",
    "              print(\"age : \",age)\n",
    "    def setmark(self,mark):\n",
    "              print(\"mark : \",mark)\n",
    "std=student(\"mujeeb\",5)\n",
    "std.display()\n",
    "std.setage(25)\n",
    "std.setmark(40)              "
   ]
  },
  {
   "cell_type": "code",
   "execution_count": 21,
   "id": "28ac54d1",
   "metadata": {},
   "outputs": [
    {
     "name": "stdout",
     "output_type": "stream",
     "text": [
      "dinner is  biriyani  and lunch is  meals\n"
     ]
    }
   ],
   "source": [
    "class food:\n",
    "    def __init__(self,lunch,dinner):\n",
    "        self.lunch=lunch\n",
    "        self.dinner=dinner\n",
    "    def getfood(self):\n",
    "        print(\"dinner is \",self.dinner,\" and lunch is \",self.lunch)\n",
    "f=food(\"meals\",\"biriyani\")\n",
    "f.getfood()"
   ]
  },
  {
   "cell_type": "code",
   "execution_count": 28,
   "id": "ab26c291",
   "metadata": {},
   "outputs": [
    {
     "name": "stdout",
     "output_type": "stream",
     "text": [
      "enter a stringwe\n",
      "string is  we\n"
     ]
    }
   ],
   "source": [
    "class word:\n",
    "    def __init__(self,string):\n",
    "        self.string=string\n",
    "    def get_from_user(self):\n",
    "        self.string=input(\"enter a string\")\n",
    "    def put_print(self):\n",
    "        print(\"string is \",self.string)\n",
    "obj=word(\"hai\")\n",
    "obj.get_from_user()\n",
    "obj.put_print()"
   ]
  },
  {
   "cell_type": "code",
   "execution_count": 33,
   "id": "5a223f86",
   "metadata": {},
   "outputs": [
    {
     "name": "stdout",
     "output_type": "stream",
     "text": [
      "addition is : 6\n",
      "sub is : 2\n",
      "multiplication is : 8\n",
      "division is : 2.0\n"
     ]
    }
   ],
   "source": [
    "class calculater:\n",
    "    def __init__(self,a,b):\n",
    "        self.a=a\n",
    "        self.b=b    \n",
    "    def addition(self):\n",
    "        print(\"addition is :\",self.a+self.b)\n",
    "    def sub(self):\n",
    "        print(\"sub is :\",self.a-self.b)\n",
    "    def mult(self):\n",
    "        print(\"multiplication is :\",self.a*self.b)\n",
    "    def div(self):\n",
    "        print(\"division is :\",self.a/self.b)\n",
    "obj=calculater(4,2)\n",
    "obj.addition()\n",
    "obj.sub()\n",
    "obj.mult()\n",
    "obj.div()"
   ]
  },
  {
   "cell_type": "code",
   "execution_count": 38,
   "id": "9a35ae26",
   "metadata": {},
   "outputs": [
    {
     "name": "stdout",
     "output_type": "stream",
     "text": [
      "area of regtangle :  6\n",
      "area of circle :  28.259999999999998\n"
     ]
    }
   ],
   "source": [
    "class rectangle:\n",
    "    def __init__(self,length,breadth):\n",
    "        self.length=length\n",
    "        self.breadth=breadth\n",
    "    def area_rec(self):\n",
    "         print(\"area of regtangle : \",self.length*self.breadth)\n",
    "class circle:\n",
    "    def __init__(self,radius,pi):\n",
    "        self.radius=radius\n",
    "        self.pi=pi\n",
    "    def area_cir(self):\n",
    "        print(\"area of circle : \",self.pi*self.radius*self.radius)\n",
    "class area(rectangle,circle):\n",
    "    def __init__(self,length,breadth,radius,pi):\n",
    "        rectangle.__init__(self,length,breadth)\n",
    "        circle.__init__(self,radius,pi)\n",
    "ar=area(2,3,3,3.14)\n",
    "ar.area_rec()\n",
    "ar.area_cir()\n",
    "    "
   ]
  },
  {
   "cell_type": "markdown",
   "id": "f93a660e",
   "metadata": {},
   "source": [
    "class rectangle:\n",
    "    def __init__(self,length,breadth):\n",
    "        self.length=length\n",
    "        self.breadh=breadth\n",
    "        \n",
    "        "
   ]
  },
  {
   "cell_type": "code",
   "execution_count": 6,
   "id": "332680ce",
   "metadata": {},
   "outputs": [
    {
     "name": "stdout",
     "output_type": "stream",
     "text": [
      "dog is a good animal\n",
      "sound of dog is bark\n"
     ]
    }
   ],
   "source": [
    "class animal:\n",
    "    def speak(self):\n",
    "        print(\"sound of dog is bark\")\n",
    "class dog(animal):\n",
    "    def dg(self):\n",
    "        print(\"dog is a good animal\")\n",
    "obj=dog()\n",
    "obj.dg()\n",
    "obj.speak()"
   ]
  },
  {
   "cell_type": "code",
   "execution_count": 7,
   "id": "f0afbb20",
   "metadata": {},
   "outputs": [
    {
     "name": "stdout",
     "output_type": "stream",
     "text": [
      "life of dog\n",
      "dog is a good animal\n",
      "sound of dog is bark\n"
     ]
    }
   ],
   "source": [
    "class animal:\n",
    "    def speak(self):\n",
    "        print(\"sound of dog is bark\")\n",
    "class dog(animal):\n",
    "    def dg(self):\n",
    "        print(\"dog is a good animal\")\n",
    "class dogchild(dog):\n",
    "    def dgc(self):\n",
    "        print(\"life of dog\")\n",
    "obj=dogchild()\n",
    "obj.dgc()\n",
    "obj.dg()\n",
    "obj.speak()"
   ]
  },
  {
   "cell_type": "code",
   "execution_count": 34,
   "id": "2aa5d0a9",
   "metadata": {},
   "outputs": [
    {
     "name": "stdout",
     "output_type": "stream",
     "text": [
      "sum of numbers : 5\n",
      "multiplication of numbers : 6\n",
      "division of numbers : 2.0\n"
     ]
    }
   ],
   "source": [
    "class calculation1:\n",
    "    def __init__(self,num1,num2):\n",
    "        self.num1=num1\n",
    "        self.num2=num2\n",
    "    def summation(self):\n",
    "        print(\"sum of numbers :\",self.num1+self.num2)\n",
    "class calculation2:\n",
    "    def __init__(self,num3,num4):\n",
    "        self.num3=num3\n",
    "        self.num4=num4\n",
    "    def multiplication(self):\n",
    "        print(\"multiplication of numbers :\",self.num3*self.num4)\n",
    "class calculation3(calculation1,calculation2):\n",
    "    def __init__(self,num1,num2,num3,num4,num5,num6):\n",
    "        self.num5=num5\n",
    "        self.num6=num6\n",
    "        calculation1.__init__(self,num1,num2)\n",
    "        calculation2.__init__(self,num3,num4)\n",
    "    def division(self):\n",
    "        print(\"division of numbers :\",self.num5/self.num6)\n",
    "obj=calculation3(2,3,2,3,6,3)\n",
    "obj.summation()\n",
    "obj.multiplication()\n",
    "obj.division()\n",
    "        "
   ]
  },
  {
   "cell_type": "code",
   "execution_count": null,
   "id": "6b8a9f99",
   "metadata": {},
   "outputs": [],
   "source": [
    "#oops programs"
   ]
  },
  {
   "cell_type": "code",
   "execution_count": 40,
   "id": "41e8d180",
   "metadata": {},
   "outputs": [
    {
     "name": "stdout",
     "output_type": "stream",
     "text": [
      "my name is  mujeeb  and age is  25\n"
     ]
    }
   ],
   "source": [
    "class customer:\n",
    "    def __init__(self,name,age):\n",
    "        self.name=name\n",
    "        self.age=age\n",
    "    def getdata(self):\n",
    "        print(\"my name is \",self.name,\" and age is \",self.age)\n",
    "s1=customer(\"mujeeb\",25)\n",
    "s1.getdata()\n",
    "\n",
    "#here s1 is the instance attribute"
   ]
  },
  {
   "cell_type": "code",
   "execution_count": 42,
   "id": "793c9e1c",
   "metadata": {},
   "outputs": [
    {
     "name": "stdout",
     "output_type": "stream",
     "text": [
      "vehicle name is  maruthi  and price is  500000\n"
     ]
    }
   ],
   "source": [
    "class vehicle:\n",
    "    def __init__(self,car,price):\n",
    "        self.car=car\n",
    "        self.price=price\n",
    "s1=vehicle(\"maruthi\",500000)\n",
    "print(\"vehicle name is \",s1.car,\" and price is \",s1.price)"
   ]
  },
  {
   "cell_type": "code",
   "execution_count": 51,
   "id": "749b6d2b",
   "metadata": {},
   "outputs": [
    {
     "name": "stdout",
     "output_type": "stream",
     "text": [
      "bus is a type of vehicle\n",
      "altima  is name of bus and mileage of buses are  4  and price of buses are  100000\n",
      "buses used for public transport\n"
     ]
    }
   ],
   "source": [
    "class vehicle:\n",
    "    def __init__(self,name,mileage,price):\n",
    "        self.name=name\n",
    "        self.mileage=mileage\n",
    "        self.price=price\n",
    "    def getbus(self):\n",
    "        print(\"bus is a type of vehicle\")\n",
    "    def buses(self):\n",
    "        print(self.name,\" is name of bus and mileage of buses are \",self.mileage,\" and price of buses are \",self.price)\n",
    "class bus(vehicle):\n",
    "    def __init__(self,name,mileage,price):\n",
    "        vehicle.__init__(self,name,mileage,price)\n",
    "    def use(self):\n",
    "        print(\"buses used for public transport\")\n",
    "a1=bus(\"altima\",4,100000)\n",
    "a1.getbus()\n",
    "a1.buses()\n",
    "a1.use()"
   ]
  },
  {
   "cell_type": "code",
   "execution_count": 3,
   "id": "0cf2b8ef",
   "metadata": {},
   "outputs": [
    {
     "name": "stdout",
     "output_type": "stream",
     "text": [
      "abc  is name of bus and price of buses are  123000\n",
      "seating capacity  50\n",
      "bus\n"
     ]
    }
   ],
   "source": [
    "class vehicle:\n",
    "    def __init__(self,name,price,seat_capacity=50):\n",
    "        self.name=name\n",
    "        self.price=price\n",
    "        self.seat_capacity=seat_capacity\n",
    "    def buses(self):\n",
    "        print(self.name,\" is name of bus and price of buses are \",self.price)\n",
    "    def seat_c(self):\n",
    "        print(\"seating capacity \",self.seat_capacity)  \n",
    "class bus(vehicle): \n",
    "    def __init__(self,name,price):\n",
    "        vehicle.__init__(self,name,price)\n",
    "    def demp(self):\n",
    "        print(\"bus\")\n",
    "a1=bus(\"abc\",123000)            #class bus inherits the class vehicle with deafault seat capacity 50\n",
    "a1.buses()\n",
    "a1.seat_c()  \n",
    "a1.demp()"
   ]
  },
  {
   "cell_type": "code",
   "execution_count": 12,
   "id": "a529b6f7",
   "metadata": {},
   "outputs": [
    {
     "name": "stdout",
     "output_type": "stream",
     "text": [
      "bus name : volvo max speed : 120  mileage : 12\n",
      "car name : benz max speed : 300  mileage : 20\n"
     ]
    }
   ],
   "source": [
    "class Vehicle:\n",
    "    color=\"black\"  \n",
    "    def __init__(self, name, max_speed, mileage):\n",
    "        self.name = name\n",
    "        self.max_speed = max_speed\n",
    "        self.mileage = mileage\n",
    "\n",
    "class Bus(Vehicle):\n",
    "    pass\n",
    "\n",
    "class Car(Vehicle):\n",
    "    pass\n",
    "v=Bus(\"volvo\",120,12)\n",
    "print(\"bus name : \"+v.name+\" max speed :\",v.max_speed,\" mileage :\",v.mileage)\n",
    "c=Car(\"benz\",300,20)\n",
    "print(\"car name : \"+c.name+\" max speed :\",c.max_speed,\" mileage :\",c.mileage)"
   ]
  },
  {
   "cell_type": "code",
   "execution_count": 13,
   "id": "7a8d456a",
   "metadata": {},
   "outputs": [
    {
     "name": "stdout",
     "output_type": "stream",
     "text": [
      "<class '__main__.Bus'>\n"
     ]
    }
   ],
   "source": [
    "class Vehicle:\n",
    "    def __init__(self, name, mileage, capacity):\n",
    "        self.name = name\n",
    "        self.mileage = mileage\n",
    "        self.capacity = capacity\n",
    "\n",
    "class Bus(Vehicle):\n",
    "    pass\n",
    "\n",
    "School_bus = Bus(\"School Volvo\", 12, 50)\n",
    "\n",
    "# Python's built-in type()\n",
    "print(type(School_bus))"
   ]
  },
  {
   "cell_type": "code",
   "execution_count": null,
   "id": "fa4445ca",
   "metadata": {},
   "outputs": [],
   "source": []
  }
 ],
 "metadata": {
  "kernelspec": {
   "display_name": "Python 3 (ipykernel)",
   "language": "python",
   "name": "python3"
  },
  "language_info": {
   "codemirror_mode": {
    "name": "ipython",
    "version": 3
   },
   "file_extension": ".py",
   "mimetype": "text/x-python",
   "name": "python",
   "nbconvert_exporter": "python",
   "pygments_lexer": "ipython3",
   "version": "3.9.12"
  }
 },
 "nbformat": 4,
 "nbformat_minor": 5
}
