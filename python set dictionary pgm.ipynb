{
 "cells": [
  {
   "cell_type": "code",
   "execution_count": 1,
   "id": "14500baf",
   "metadata": {},
   "outputs": [
    {
     "name": "stdout",
     "output_type": "stream",
     "text": [
      "{'blue', 'white', 'red', 'yellow', 'green'}\n"
     ]
    }
   ],
   "source": [
    "s1=set([\"green\",\"white\",\"blue\",\"yellow\",\"red\",])\n",
    "print(s1)"
   ]
  },
  {
   "cell_type": "code",
   "execution_count": 2,
   "id": "657b8115",
   "metadata": {},
   "outputs": [
    {
     "name": "stdout",
     "output_type": "stream",
     "text": [
      "blue\n",
      "white\n",
      "red\n",
      "yellow\n",
      "green\n"
     ]
    }
   ],
   "source": [
    "for i in s1:\n",
    "    print(i)"
   ]
  },
  {
   "cell_type": "code",
   "execution_count": 3,
   "id": "e9aefc91",
   "metadata": {},
   "outputs": [
    {
     "name": "stdout",
     "output_type": "stream",
     "text": [
      "{'violet', 'blue', 'white', 'red', 'yellow', 'green'}\n"
     ]
    }
   ],
   "source": [
    "s1.add(\"violet\")\n",
    "print(s1)"
   ]
  },
  {
   "cell_type": "code",
   "execution_count": 4,
   "id": "e5de064c",
   "metadata": {},
   "outputs": [
    {
     "ename": "SyntaxError",
     "evalue": "cannot delete function call (3733459484.py, line 1)",
     "output_type": "error",
     "traceback": [
      "\u001b[1;36m  Input \u001b[1;32mIn [4]\u001b[1;36m\u001b[0m\n\u001b[1;33m    del s1(\"white\")\u001b[0m\n\u001b[1;37m        ^\u001b[0m\n\u001b[1;31mSyntaxError\u001b[0m\u001b[1;31m:\u001b[0m cannot delete function call\n"
     ]
    }
   ],
   "source": [
    "del s1(\"white\")\n",
    "print(s1)"
   ]
  },
  {
   "cell_type": "code",
   "execution_count": 6,
   "id": "0c3e046e",
   "metadata": {},
   "outputs": [
    {
     "name": "stdout",
     "output_type": "stream",
     "text": [
      "{'blue', 'white', 'red', 'yellow', 'green'}\n"
     ]
    }
   ],
   "source": [
    "s1.pop()\n",
    "print(s1)"
   ]
  },
  {
   "cell_type": "code",
   "execution_count": 7,
   "id": "cc92956d",
   "metadata": {},
   "outputs": [
    {
     "name": "stdout",
     "output_type": "stream",
     "text": [
      "{'blue', 'white', 'yellow', 'green'}\n"
     ]
    }
   ],
   "source": [
    "s1.remove(\"red\")\n",
    "print(s1)"
   ]
  },
  {
   "cell_type": "code",
   "execution_count": 8,
   "id": "685bca53",
   "metadata": {},
   "outputs": [
    {
     "data": {
      "text/plain": [
       "{1, 3, 'blue', 'white'}"
      ]
     },
     "execution_count": 8,
     "metadata": {},
     "output_type": "execute_result"
    }
   ],
   "source": [
    "s1=set([\"green\",\"white\",\"blue\",\"yellow\",\"red\",1,3])\n",
    "s2=set([1,2,3,4,5,\"white\",\"blue\"])\n",
    "s1.intersection(s2)\n"
   ]
  },
  {
   "cell_type": "code",
   "execution_count": 9,
   "id": "0b058d45",
   "metadata": {},
   "outputs": [
    {
     "data": {
      "text/plain": [
       "{1, 2, 3, 4, 5, 'blue', 'green', 'red', 'white', 'yellow'}"
      ]
     },
     "execution_count": 9,
     "metadata": {},
     "output_type": "execute_result"
    }
   ],
   "source": [
    "s1=set([\"green\",\"white\",\"blue\",\"yellow\",\"red\",1,3])\n",
    "s2=set([1,2,3,4,5,\"white\",\"blue\"])\n",
    "s1.union(s2)"
   ]
  },
  {
   "cell_type": "code",
   "execution_count": 10,
   "id": "68b9674d",
   "metadata": {},
   "outputs": [
    {
     "data": {
      "text/plain": [
       "{'green', 'red', 'yellow'}"
      ]
     },
     "execution_count": 10,
     "metadata": {},
     "output_type": "execute_result"
    }
   ],
   "source": [
    "s1=set([\"green\",\"white\",\"blue\",\"yellow\",\"red\",1,3])\n",
    "s2=set([1,2,3,4,5,\"white\",\"blue\"])\n",
    "s1.difference(s2)"
   ]
  },
  {
   "cell_type": "code",
   "execution_count": 11,
   "id": "6901e38c",
   "metadata": {},
   "outputs": [
    {
     "data": {
      "text/plain": [
       "{2, 4, 5, 'green', 'red', 'yellow'}"
      ]
     },
     "execution_count": 11,
     "metadata": {},
     "output_type": "execute_result"
    }
   ],
   "source": [
    "s1=set([\"green\",\"white\",\"blue\",\"yellow\",\"red\",1,3])\n",
    "s2=set([1,2,3,4,5,\"white\",\"blue\"])\n",
    "s1.symmetric_difference(s2)"
   ]
  },
  {
   "cell_type": "code",
   "execution_count": 1,
   "id": "5c459b5b",
   "metadata": {},
   "outputs": [
    {
     "name": "stdout",
     "output_type": "stream",
     "text": [
      "s2 is subset of s1 True\n"
     ]
    }
   ],
   "source": [
    "s1=set([\"green\",\"white\",\"blue\",\"yellow\",\"red\"])\n",
    "s2=set([\"white\",\"blue\"])\n",
    "if(s2<=s1):\n",
    "    print(\"s2 is subset of s1\",s2.issubset(s2))\n",
    "    "
   ]
  },
  {
   "cell_type": "code",
   "execution_count": 2,
   "id": "0d73ddd5",
   "metadata": {},
   "outputs": [
    {
     "name": "stdout",
     "output_type": "stream",
     "text": [
      "copied set {'red', 'yellow', 'green', 'blue', 'white'}\n"
     ]
    }
   ],
   "source": [
    "s1=set([\"green\",\"white\",\"blue\",\"yellow\",\"red\"])\n",
    "b=s1.copy()\n",
    "print(\"copied set\",b)"
   ]
  },
  {
   "cell_type": "code",
   "execution_count": 3,
   "id": "f995bda1",
   "metadata": {},
   "outputs": [
    {
     "data": {
      "text/plain": [
       "set()"
      ]
     },
     "execution_count": 3,
     "metadata": {},
     "output_type": "execute_result"
    }
   ],
   "source": [
    "s1=set([\"green\",\"white\",\"blue\",\"yellow\",\"red\"])\n",
    "s1.clear()\n",
    "s1"
   ]
  },
  {
   "cell_type": "code",
   "execution_count": 4,
   "id": "5da625de",
   "metadata": {},
   "outputs": [
    {
     "data": {
      "text/plain": [
       "5"
      ]
     },
     "execution_count": 4,
     "metadata": {},
     "output_type": "execute_result"
    }
   ],
   "source": [
    "s1=set([\"green\",\"white\",\"blue\",\"yellow\",\"red\"])\n",
    "len(s1)"
   ]
  },
  {
   "cell_type": "code",
   "execution_count": 6,
   "id": "d00312b1",
   "metadata": {},
   "outputs": [
    {
     "name": "stdout",
     "output_type": "stream",
     "text": [
      "given two sets have no common elements set()\n"
     ]
    }
   ],
   "source": [
    "s1=set([\"green\",\"white\",\"blue\",\"yellow\",\"red\"])\n",
    "s2=set([1,2,3,4])\n",
    "b=s1.intersection(s2)\n",
    "print(\"given two sets have no common elements\",b)"
   ]
  },
  {
   "cell_type": "code",
   "execution_count": 7,
   "id": "edeacf88",
   "metadata": {},
   "outputs": [
    {
     "name": "stdout",
     "output_type": "stream",
     "text": [
      "{'name': 'rahees', 'age': 22, 'sex': 'male'}\n"
     ]
    }
   ],
   "source": [
    "dic={\"name\":\"rahees\",\"age\":22,\"sex\":\"male\"}\n",
    "print(dic)"
   ]
  },
  {
   "cell_type": "code",
   "execution_count": 13,
   "id": "ef406216",
   "metadata": {},
   "outputs": [
    {
     "name": "stdout",
     "output_type": "stream",
     "text": [
      "{'name': 'rahees', 'age': 22, 'sex': 'male', 'place': 'calicut'}\n"
     ]
    }
   ],
   "source": [
    "dic[\"place\"]=\"calicut\"\n",
    "print(dic)"
   ]
  },
  {
   "cell_type": "code",
   "execution_count": 2,
   "id": "c98457b4",
   "metadata": {},
   "outputs": [
    {
     "name": "stdout",
     "output_type": "stream",
     "text": [
      "sum :  79\n"
     ]
    }
   ],
   "source": [
    "dic={\"name\":23,\"age\":22,\"sex\":34}\n",
    "print(\"sum : \",sum(dic.values()))\n"
   ]
  },
  {
   "cell_type": "code",
   "execution_count": 9,
   "id": "680fc4aa",
   "metadata": {},
   "outputs": [
    {
     "name": "stdout",
     "output_type": "stream",
     "text": [
      "23\n",
      "506\n",
      "17204\n"
     ]
    }
   ],
   "source": [
    "dic={\"name\":23,\"age\":22,\"sex\":34}\n",
    "tot=1\n",
    "for i in dic:\n",
    "    tot=tot*dic[i]\n",
    "    print(tot)"
   ]
  },
  {
   "cell_type": "code",
   "execution_count": null,
   "id": "9b9fae32",
   "metadata": {},
   "outputs": [],
   "source": []
  },
  {
   "cell_type": "code",
   "execution_count": null,
   "id": "e78a780d",
   "metadata": {},
   "outputs": [],
   "source": []
  }
 ],
 "metadata": {
  "kernelspec": {
   "display_name": "Python 3 (ipykernel)",
   "language": "python",
   "name": "python3"
  },
  "language_info": {
   "codemirror_mode": {
    "name": "ipython",
    "version": 3
   },
   "file_extension": ".py",
   "mimetype": "text/x-python",
   "name": "python",
   "nbconvert_exporter": "python",
   "pygments_lexer": "ipython3",
   "version": "3.9.12"
  }
 },
 "nbformat": 4,
 "nbformat_minor": 5
}
