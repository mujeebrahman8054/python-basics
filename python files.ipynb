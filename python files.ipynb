{
 "cells": [
  {
   "cell_type": "code",
   "execution_count": 9,
   "id": "5f40abc0",
   "metadata": {},
   "outputs": [],
   "source": [
    "f=open(\"python base.ipynb\",\"r\",encoding=\"utf-8\")\n",
    "f.read(4)\n",
    "f.close()"
   ]
  },
  {
   "cell_type": "code",
   "execution_count": 12,
   "id": "c8025c3b",
   "metadata": {},
   "outputs": [],
   "source": [
    "f=open(\"test.txt\",\"r\",encoding=\"utf-8\")\n",
    "f.read(10)\n",
    "f.close()"
   ]
  },
  {
   "cell_type": "code",
   "execution_count": 24,
   "id": "15126d98",
   "metadata": {},
   "outputs": [],
   "source": [
    "with open(\"test.txt\",\"w\") as f:\n",
    "    f.write(\"write in to the file\")\n",
    "    f.write(\" 10 is my favorite number\")\n",
    "    "
   ]
  },
  {
   "cell_type": "code",
   "execution_count": 36,
   "id": "45b9ad4a",
   "metadata": {},
   "outputs": [],
   "source": [
    "f=open(\"test.txt\",\"w\")\n",
    "f.seek(46)\n",
    "f.write(\"write here\")\n",
    "f.close()"
   ]
  },
  {
   "cell_type": "code",
   "execution_count": 102,
   "id": "ca2bb999",
   "metadata": {},
   "outputs": [
    {
     "data": {
      "text/plain": [
       "28"
      ]
     },
     "execution_count": 102,
     "metadata": {},
     "output_type": "execute_result"
    }
   ],
   "source": [
    "f=open(\"test.txt\",\"w\")\n",
    "f.write(\"my writing exp\\n\")\n",
    "f.write(\"this is the testing file\\n\")\n",
    "f.write(\"third line of teasting file\\n\")"
   ]
  },
  {
   "cell_type": "code",
   "execution_count": 94,
   "id": "87ed6d98",
   "metadata": {},
   "outputs": [],
   "source": [
    "f=open(\"test.txt\",\"r\")\n",
    "\n",
    "f.readlines()\n",
    "f.close()"
   ]
  },
  {
   "cell_type": "code",
   "execution_count": 49,
   "id": "e957bd67",
   "metadata": {},
   "outputs": [
    {
     "name": "stdout",
     "output_type": "stream",
     "text": [
      "C:\\Users\\MUJEEB\n"
     ]
    }
   ],
   "source": [
    "import os\n",
    "print(os.getcwd())"
   ]
  },
  {
   "cell_type": "code",
   "execution_count": 60,
   "id": "1bf842f2",
   "metadata": {},
   "outputs": [
    {
     "name": "stdout",
     "output_type": "stream",
     "text": [
      "c:\\Users\\MUJEEB\n"
     ]
    }
   ],
   "source": [
    "import os\n",
    "os.chdir(\"c:\\\\Users\\MUJEEB\")\n",
    "print(os.getcwd())"
   ]
  },
  {
   "cell_type": "code",
   "execution_count": 54,
   "id": "4377f7ee",
   "metadata": {},
   "outputs": [
    {
     "data": {
      "text/plain": [
       "['All Users', 'Default', 'Default User', 'desktop.ini', 'MUJEEB', 'Public']"
      ]
     },
     "execution_count": 54,
     "metadata": {},
     "output_type": "execute_result"
    }
   ],
   "source": [
    "os.listdir()"
   ]
  },
  {
   "cell_type": "code",
   "execution_count": 55,
   "id": "d1e4b07a",
   "metadata": {},
   "outputs": [
    {
     "ename": "FileNotFoundError",
     "evalue": "[WinError 2] The system cannot find the file specified: 'test' -> 'new'",
     "output_type": "error",
     "traceback": [
      "\u001b[1;31m---------------------------------------------------------------------------\u001b[0m",
      "\u001b[1;31mFileNotFoundError\u001b[0m                         Traceback (most recent call last)",
      "Input \u001b[1;32mIn [55]\u001b[0m, in \u001b[0;36m<cell line: 1>\u001b[1;34m()\u001b[0m\n\u001b[1;32m----> 1\u001b[0m \u001b[43mos\u001b[49m\u001b[38;5;241;43m.\u001b[39;49m\u001b[43mrename\u001b[49m\u001b[43m(\u001b[49m\u001b[38;5;124;43m\"\u001b[39;49m\u001b[38;5;124;43mtest\u001b[39;49m\u001b[38;5;124;43m\"\u001b[39;49m\u001b[43m,\u001b[49m\u001b[38;5;124;43m\"\u001b[39;49m\u001b[38;5;124;43mnew\u001b[39;49m\u001b[38;5;124;43m\"\u001b[39;49m\u001b[43m)\u001b[49m\n\u001b[0;32m      2\u001b[0m os\u001b[38;5;241m.\u001b[39mlistdir()\n",
      "\u001b[1;31mFileNotFoundError\u001b[0m: [WinError 2] The system cannot find the file specified: 'test' -> 'new'"
     ]
    }
   ],
   "source": [
    "os.rename(\"test\",\"new\")\n",
    "os.listdir()"
   ]
  },
  {
   "cell_type": "code",
   "execution_count": 65,
   "id": "384d5497",
   "metadata": {},
   "outputs": [
    {
     "data": {
      "text/plain": [
       "'c:\\\\Users\\\\MUJEEB'"
      ]
     },
     "execution_count": 65,
     "metadata": {},
     "output_type": "execute_result"
    }
   ],
   "source": [
    "with open(\"test.txt\",\"r\") as f:\n",
    "    f.read()\n",
    "import os\n",
    "os.getcwd()"
   ]
  },
  {
   "cell_type": "code",
   "execution_count": 66,
   "id": "b365068e",
   "metadata": {},
   "outputs": [
    {
     "data": {
      "text/plain": [
       "['.conda',\n",
       " '.condarc',\n",
       " '.continuum',\n",
       " '.dia',\n",
       " '.ipynb_checkpoints',\n",
       " '.ipython',\n",
       " '.jupyter',\n",
       " '.matplotlib',\n",
       " '.PyCharm2018.1',\n",
       " '.spyder-py3',\n",
       " '3D Objects',\n",
       " 'anaconda3',\n",
       " 'AppData',\n",
       " 'Application Data',\n",
       " 'Contacts',\n",
       " 'Cookies',\n",
       " 'Desktop',\n",
       " 'Documents',\n",
       " 'Downloads',\n",
       " 'Favorites',\n",
       " 'flow control conditional program  .ipynb',\n",
       " 'IntelGraphicsProfiles',\n",
       " 'Jedi',\n",
       " 'Links',\n",
       " 'Local Settings',\n",
       " 'Music',\n",
       " 'My Documents',\n",
       " 'mysqlclient-1.4.4-cp36-cp36m-win32.whl',\n",
       " 'NetHood',\n",
       " 'NTUSER.DAT',\n",
       " 'ntuser.dat.LOG1',\n",
       " 'ntuser.dat.LOG2',\n",
       " 'NTUSER.DAT{13a1b965-bd33-11eb-835b-0045e25b5e9e}.TM.blf',\n",
       " 'NTUSER.DAT{13a1b965-bd33-11eb-835b-0045e25b5e9e}.TMContainer00000000000000000001.regtrans-ms',\n",
       " 'NTUSER.DAT{13a1b965-bd33-11eb-835b-0045e25b5e9e}.TMContainer00000000000000000002.regtrans-ms',\n",
       " 'ntuser.ini',\n",
       " 'OneDrive',\n",
       " 'Pictures',\n",
       " 'PrintHood',\n",
       " 'programs.ipynb',\n",
       " 'PycharmProjects',\n",
       " 'python base pgm.ipynb',\n",
       " 'python base.ipynb',\n",
       " 'python dictionary.ipynb',\n",
       " 'python function pgm.ipynb',\n",
       " 'python function.ipynb',\n",
       " 'python list programs.ipynb',\n",
       " 'python list.ipynb',\n",
       " 'python modules pgm.ipynb',\n",
       " 'python oops pgm.ipynb',\n",
       " 'python oops.ipynb',\n",
       " 'python set dictionary pgm.ipynb',\n",
       " 'python set.ipynb',\n",
       " 'python string pgm.ipynb',\n",
       " 'python string.ipynb',\n",
       " 'python tuple pgm.ipynb',\n",
       " 'python tuple.ipynb',\n",
       " 'Recent',\n",
       " 'Saved Games',\n",
       " 'Searches',\n",
       " 'SendTo',\n",
       " 'Start Menu',\n",
       " 'Templates',\n",
       " 'test.txt',\n",
       " 'Untitled.ipynb',\n",
       " 'Videos']"
      ]
     },
     "execution_count": 66,
     "metadata": {},
     "output_type": "execute_result"
    }
   ],
   "source": [
    "os.listdir()"
   ]
  },
  {
   "cell_type": "code",
   "execution_count": 108,
   "id": "6e97c468",
   "metadata": {},
   "outputs": [
    {
     "data": {
      "text/plain": [
       "['.conda',\n",
       " '.condarc',\n",
       " '.continuum',\n",
       " '.dia',\n",
       " '.ipynb_checkpoints',\n",
       " '.ipython',\n",
       " '.jupyter',\n",
       " '.matplotlib',\n",
       " '.PyCharm2018.1',\n",
       " '.spyder-py3',\n",
       " '3D Objects',\n",
       " 'anaconda3',\n",
       " 'AppData',\n",
       " 'Application Data',\n",
       " 'Contacts',\n",
       " 'Cookies',\n",
       " 'Desktop',\n",
       " 'Documents',\n",
       " 'Downloads',\n",
       " 'Favorites',\n",
       " 'flow control conditional program  .ipynb',\n",
       " 'IntelGraphicsProfiles',\n",
       " 'Jedi',\n",
       " 'Links',\n",
       " 'Local Settings',\n",
       " 'Music',\n",
       " 'My Documents',\n",
       " 'mysqlclient-1.4.4-cp36-cp36m-win32.whl',\n",
       " 'NetHood',\n",
       " 'NTUSER.DAT',\n",
       " 'ntuser.dat.LOG1',\n",
       " 'ntuser.dat.LOG2',\n",
       " 'NTUSER.DAT{13a1b965-bd33-11eb-835b-0045e25b5e9e}.TM.blf',\n",
       " 'NTUSER.DAT{13a1b965-bd33-11eb-835b-0045e25b5e9e}.TMContainer00000000000000000001.regtrans-ms',\n",
       " 'NTUSER.DAT{13a1b965-bd33-11eb-835b-0045e25b5e9e}.TMContainer00000000000000000002.regtrans-ms',\n",
       " 'ntuser.ini',\n",
       " 'oldone',\n",
       " 'OneDrive',\n",
       " 'Pictures',\n",
       " 'PrintHood',\n",
       " 'programs.ipynb',\n",
       " 'PycharmProjects',\n",
       " 'python base pgm.ipynb',\n",
       " 'python base.ipynb',\n",
       " 'python dictionary.ipynb',\n",
       " 'python files.ipynb',\n",
       " 'python function pgm.ipynb',\n",
       " 'python function.ipynb',\n",
       " 'python list programs.ipynb',\n",
       " 'python list.ipynb',\n",
       " 'python modules pgm.ipynb',\n",
       " 'python oops pgm.ipynb',\n",
       " 'python oops.ipynb',\n",
       " 'python set dictionary pgm.ipynb',\n",
       " 'python set.ipynb',\n",
       " 'python string pgm.ipynb',\n",
       " 'python string.ipynb',\n",
       " 'python tuple pgm.ipynb',\n",
       " 'python tuple.ipynb',\n",
       " 'Recent',\n",
       " 'Saved Games',\n",
       " 'Searches',\n",
       " 'SendTo',\n",
       " 'Start Menu',\n",
       " 'Templates',\n",
       " 'test.txt',\n",
       " 'Videos']"
      ]
     },
     "execution_count": 108,
     "metadata": {},
     "output_type": "execute_result"
    }
   ],
   "source": [
    "os.mkdir(\"oldone\")\n",
    "os.listdir()"
   ]
  },
  {
   "cell_type": "code",
   "execution_count": 103,
   "id": "75d545fb",
   "metadata": {},
   "outputs": [
    {
     "name": "stdout",
     "output_type": "stream",
     "text": [
      "my writing exp\n",
      "\n",
      "this is the testing file\n",
      "\n",
      "third line of teasting file\n",
      "\n"
     ]
    }
   ],
   "source": [
    "f=open(\"test.txt\",\"r\")\n",
    "for line in f:\n",
    "    print(line, end=\"\\n\")"
   ]
  },
  {
   "cell_type": "code",
   "execution_count": 109,
   "id": "68464cb0",
   "metadata": {},
   "outputs": [
    {
     "data": {
      "text/plain": [
       "['.conda',\n",
       " '.condarc',\n",
       " '.continuum',\n",
       " '.dia',\n",
       " '.ipynb_checkpoints',\n",
       " '.ipython',\n",
       " '.jupyter',\n",
       " '.matplotlib',\n",
       " '.PyCharm2018.1',\n",
       " '.spyder-py3',\n",
       " '3D Objects',\n",
       " 'anaconda3',\n",
       " 'AppData',\n",
       " 'Application Data',\n",
       " 'Contacts',\n",
       " 'Cookies',\n",
       " 'Desktop',\n",
       " 'Documents',\n",
       " 'Downloads',\n",
       " 'Favorites',\n",
       " 'flow control conditional program  .ipynb',\n",
       " 'IntelGraphicsProfiles',\n",
       " 'Jedi',\n",
       " 'Links',\n",
       " 'Local Settings',\n",
       " 'Music',\n",
       " 'My Documents',\n",
       " 'mysqlclient-1.4.4-cp36-cp36m-win32.whl',\n",
       " 'NetHood',\n",
       " 'newone',\n",
       " 'NTUSER.DAT',\n",
       " 'ntuser.dat.LOG1',\n",
       " 'ntuser.dat.LOG2',\n",
       " 'NTUSER.DAT{13a1b965-bd33-11eb-835b-0045e25b5e9e}.TM.blf',\n",
       " 'NTUSER.DAT{13a1b965-bd33-11eb-835b-0045e25b5e9e}.TMContainer00000000000000000001.regtrans-ms',\n",
       " 'NTUSER.DAT{13a1b965-bd33-11eb-835b-0045e25b5e9e}.TMContainer00000000000000000002.regtrans-ms',\n",
       " 'ntuser.ini',\n",
       " 'OneDrive',\n",
       " 'Pictures',\n",
       " 'PrintHood',\n",
       " 'programs.ipynb',\n",
       " 'PycharmProjects',\n",
       " 'python base pgm.ipynb',\n",
       " 'python base.ipynb',\n",
       " 'python dictionary.ipynb',\n",
       " 'python files.ipynb',\n",
       " 'python function pgm.ipynb',\n",
       " 'python function.ipynb',\n",
       " 'python list programs.ipynb',\n",
       " 'python list.ipynb',\n",
       " 'python modules pgm.ipynb',\n",
       " 'python oops pgm.ipynb',\n",
       " 'python oops.ipynb',\n",
       " 'python set dictionary pgm.ipynb',\n",
       " 'python set.ipynb',\n",
       " 'python string pgm.ipynb',\n",
       " 'python string.ipynb',\n",
       " 'python tuple pgm.ipynb',\n",
       " 'python tuple.ipynb',\n",
       " 'Recent',\n",
       " 'Saved Games',\n",
       " 'Searches',\n",
       " 'SendTo',\n",
       " 'Start Menu',\n",
       " 'Templates',\n",
       " 'test.txt',\n",
       " 'Videos']"
      ]
     },
     "execution_count": 109,
     "metadata": {},
     "output_type": "execute_result"
    }
   ],
   "source": [
    "os.rename(\"oldone\",\"newone\")\n",
    "os.listdir()\n"
   ]
  },
  {
   "cell_type": "code",
   "execution_count": 115,
   "id": "7907ce33",
   "metadata": {},
   "outputs": [
    {
     "data": {
      "text/plain": [
       "['.conda',\n",
       " '.condarc',\n",
       " '.continuum',\n",
       " '.dia',\n",
       " '.ipynb_checkpoints',\n",
       " '.ipython',\n",
       " '.jupyter',\n",
       " '.matplotlib',\n",
       " '.PyCharm2018.1',\n",
       " '.spyder-py3',\n",
       " '3D Objects',\n",
       " 'anaconda3',\n",
       " 'AppData',\n",
       " 'Application Data',\n",
       " 'Contacts',\n",
       " 'Cookies',\n",
       " 'Desktop',\n",
       " 'Documents',\n",
       " 'Downloads',\n",
       " 'Favorites',\n",
       " 'flow control conditional program  .ipynb',\n",
       " 'IntelGraphicsProfiles',\n",
       " 'Jedi',\n",
       " 'Links',\n",
       " 'Local Settings',\n",
       " 'Music',\n",
       " 'My Documents',\n",
       " 'mysqlclient-1.4.4-cp36-cp36m-win32.whl',\n",
       " 'NetHood',\n",
       " 'NTUSER.DAT',\n",
       " 'ntuser.dat.LOG1',\n",
       " 'ntuser.dat.LOG2',\n",
       " 'NTUSER.DAT{13a1b965-bd33-11eb-835b-0045e25b5e9e}.TM.blf',\n",
       " 'NTUSER.DAT{13a1b965-bd33-11eb-835b-0045e25b5e9e}.TMContainer00000000000000000001.regtrans-ms',\n",
       " 'NTUSER.DAT{13a1b965-bd33-11eb-835b-0045e25b5e9e}.TMContainer00000000000000000002.regtrans-ms',\n",
       " 'ntuser.ini',\n",
       " 'OneDrive',\n",
       " 'Pictures',\n",
       " 'PrintHood',\n",
       " 'programs.ipynb',\n",
       " 'PycharmProjects',\n",
       " 'python base pgm.ipynb',\n",
       " 'python base.ipynb',\n",
       " 'python dictionary.ipynb',\n",
       " 'python files.ipynb',\n",
       " 'python function pgm.ipynb',\n",
       " 'python function.ipynb',\n",
       " 'python list programs.ipynb',\n",
       " 'python list.ipynb',\n",
       " 'python modules pgm.ipynb',\n",
       " 'python oops pgm.ipynb',\n",
       " 'python oops.ipynb',\n",
       " 'python set dictionary pgm.ipynb',\n",
       " 'python set.ipynb',\n",
       " 'python string pgm.ipynb',\n",
       " 'python string.ipynb',\n",
       " 'python tuple pgm.ipynb',\n",
       " 'python tuple.ipynb',\n",
       " 'Recent',\n",
       " 'Saved Games',\n",
       " 'Searches',\n",
       " 'SendTo',\n",
       " 'Start Menu',\n",
       " 'Templates',\n",
       " 'test.txt',\n",
       " 'Videos']"
      ]
     },
     "execution_count": 115,
     "metadata": {},
     "output_type": "execute_result"
    }
   ],
   "source": [
    "os.rmdir(\"newone\")\n",
    "os.listdir()"
   ]
  },
  {
   "cell_type": "code",
   "execution_count": 1,
   "id": "4f6dbdb0",
   "metadata": {},
   "outputs": [],
   "source": [
    "#programs"
   ]
  },
  {
   "cell_type": "code",
   "execution_count": 13,
   "id": "080b2b05",
   "metadata": {},
   "outputs": [
    {
     "data": {
      "text/plain": [
       "'my writing exp\\nthis is the testing file\\nthird line of teasting file'"
      ]
     },
     "execution_count": 13,
     "metadata": {},
     "output_type": "execute_result"
    }
   ],
   "source": [
    "f=open(\"test.txt\",\"r\")\n",
    "f.read()\n"
   ]
  },
  {
   "cell_type": "code",
   "execution_count": 16,
   "id": "d5c69e0d",
   "metadata": {},
   "outputs": [
    {
     "data": {
      "text/plain": [
       "29"
      ]
     },
     "execution_count": 16,
     "metadata": {},
     "output_type": "execute_result"
    }
   ],
   "source": [
    "f=open(\"test.txt\",\"r+\")\n",
    "f.write(\"my python files \\n\")\n",
    "f.write(\"we can read and write files \\n\")"
   ]
  },
  {
   "cell_type": "code",
   "execution_count": 21,
   "id": "e3757b75",
   "metadata": {},
   "outputs": [
    {
     "data": {
      "text/plain": [
       "'my python files \\nwe can read and write files \\n'"
      ]
     },
     "execution_count": 21,
     "metadata": {},
     "output_type": "execute_result"
    }
   ],
   "source": [
    "f=open(\"test.txt\",\"r\")\n",
    "f.read()"
   ]
  },
  {
   "cell_type": "code",
   "execution_count": 22,
   "id": "dce74bf8",
   "metadata": {},
   "outputs": [
    {
     "data": {
      "text/plain": [
       "'copytest.txt'"
      ]
     },
     "execution_count": 22,
     "metadata": {},
     "output_type": "execute_result"
    }
   ],
   "source": [
    "from shutil import copyfile\n",
    "copyfile(\"test.txt\",\"copytest.txt\")"
   ]
  },
  {
   "cell_type": "code",
   "execution_count": 23,
   "id": "8a48152b",
   "metadata": {},
   "outputs": [
    {
     "data": {
      "text/plain": [
       "'my python files \\nwe can read and write files \\n'"
      ]
     },
     "execution_count": 23,
     "metadata": {},
     "output_type": "execute_result"
    }
   ],
   "source": [
    "f=open(\"copytest.txt\",\"r\")\n",
    "f.read()"
   ]
  },
  {
   "cell_type": "code",
   "execution_count": 36,
   "id": "25119847",
   "metadata": {},
   "outputs": [
    {
     "data": {
      "text/plain": [
       "'my python files \\nwe can read and write files \\nthis is append a text \\nto the file and display itthis is append a text \\nto the file and display itthis is append a text \\nto the file and display it\\n'"
      ]
     },
     "execution_count": 36,
     "metadata": {},
     "output_type": "execute_result"
    }
   ],
   "source": [
    "with open(\"test.txt\",\"a\") as f:\n",
    "    f.write(\"this is append a text \\n\")\n",
    "    f.write(\"to the file and display it\\n\")\n",
    "\n",
    "f=open(\"test.txt\",\"r\")\n",
    "f.read()        \n",
    "    "
   ]
  },
  {
   "cell_type": "code",
   "execution_count": 32,
   "id": "4f837d1b",
   "metadata": {},
   "outputs": [
    {
     "name": "stdout",
     "output_type": "stream",
     "text": [
      "This is the number of lines in the file\n",
      "5\n"
     ]
    }
   ],
   "source": [
    "\n",
    "file = open(\"test.txt\",\"r\")\n",
    "Counter = 0\n",
    "\n",
    "Content = file.read()\n",
    "CoList = Content.split(\"\\n\")\n",
    "  \n",
    "for i in CoList:\n",
    "    if i:\n",
    "        Counter += 1\n",
    "          \n",
    "print(\"This is the number of lines in the file\")\n",
    "print(Counter)"
   ]
  },
  {
   "cell_type": "code",
   "execution_count": 38,
   "id": "d70f3a73",
   "metadata": {},
   "outputs": [
    {
     "name": "stdout",
     "output_type": "stream",
     "text": [
      "6\n"
     ]
    }
   ],
   "source": [
    "file = open(\"test.txt\",\"r\")\n",
    "f=len(file.readlines())\n",
    "print(f)"
   ]
  },
  {
   "cell_type": "code",
   "execution_count": 37,
   "id": "66f10b66",
   "metadata": {},
   "outputs": [
    {
     "data": {
      "text/plain": [
       "['my python files \\n',\n",
       " 'we can read and write files \\n',\n",
       " 'this is append a text \\n',\n",
       " 'to the file and display itthis is append a text \\n',\n",
       " 'to the file and display itthis is append a text \\n',\n",
       " 'to the file and display it\\n']"
      ]
     },
     "execution_count": 37,
     "metadata": {},
     "output_type": "execute_result"
    }
   ],
   "source": [
    "file = open(\"test.txt\",\"r\")\n",
    "file.readlines()"
   ]
  },
  {
   "cell_type": "code",
   "execution_count": null,
   "id": "d4c2f8c7",
   "metadata": {},
   "outputs": [],
   "source": []
  }
 ],
 "metadata": {
  "kernelspec": {
   "display_name": "Python 3 (ipykernel)",
   "language": "python",
   "name": "python3"
  },
  "language_info": {
   "codemirror_mode": {
    "name": "ipython",
    "version": 3
   },
   "file_extension": ".py",
   "mimetype": "text/x-python",
   "name": "python",
   "nbconvert_exporter": "python",
   "pygments_lexer": "ipython3",
   "version": "3.9.12"
  }
 },
 "nbformat": 4,
 "nbformat_minor": 5
}
