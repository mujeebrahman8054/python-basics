{
 "cells": [
  {
   "cell_type": "code",
   "execution_count": 1,
   "id": "d33868a5",
   "metadata": {},
   "outputs": [
    {
     "name": "stdout",
     "output_type": "stream",
     "text": [
      "Original List :  [10, 20, 30, 40, 20, 50, 60, 40]\n",
      "List of unique numbers :  [40, 10, 50, 20, 60, 30]\n"
     ]
    }
   ],
   "source": [
    "my_list = [10, 20, 30, 40, 20, 50, 60, 40]\n",
    "print(\"Original List : \",my_list)\n",
    "my_set = set(my_list)\n",
    "my_new_list = list(my_set)\n",
    "print(\"List of unique numbers : \",my_new_list)"
   ]
  },
  {
   "cell_type": "code",
   "execution_count": 2,
   "id": "6c3c28db",
   "metadata": {},
   "outputs": [
    {
     "name": "stdout",
     "output_type": "stream",
     "text": [
      "[1, 2, 3, 4, 5, 2, 3, 4, 1, 5]\n",
      "{1, 2, 3, 4, 5}\n"
     ]
    }
   ],
   "source": [
    "a=[1,2,3,4,5,2,3,4,1,5]\n",
    "print(a)\n",
    "b=set(a)\n",
    "print(b)"
   ]
  },
  {
   "cell_type": "code",
   "execution_count": 8,
   "id": "554262f8",
   "metadata": {},
   "outputs": [
    {
     "name": "stdout",
     "output_type": "stream",
     "text": [
      "[23, 34, 45, 56, 67, 89]\n",
      "sum =  314\n"
     ]
    }
   ],
   "source": [
    "a=[23,34,45,56,67,89]\n",
    "print(a)\n",
    "sum=0\n",
    "for b in range(0,len(a)):\n",
    "    sum=sum+a[b]\n",
    "print(\"sum = \",sum)\n",
    "    \n"
   ]
  },
  {
   "cell_type": "code",
   "execution_count": 12,
   "id": "613e44f1",
   "metadata": {},
   "outputs": [
    {
     "name": "stdout",
     "output_type": "stream",
     "text": [
      "largest =  89\n"
     ]
    }
   ],
   "source": [
    "a=[23,34,45,56,67,89]\n",
    "a.sort()\n",
    "print(\"largest = \",a[-1])"
   ]
  },
  {
   "cell_type": "code",
   "execution_count": 14,
   "id": "4c6ac70b",
   "metadata": {},
   "outputs": [
    {
     "name": "stdout",
     "output_type": "stream",
     "text": [
      "smallest = 12\n"
     ]
    }
   ],
   "source": [
    "a=[43,23,45,12,32,98]\n",
    "a.sort()\n",
    "print(\"smallest =\",a[0])"
   ]
  },
  {
   "cell_type": "code",
   "execution_count": 15,
   "id": "445b459e",
   "metadata": {},
   "outputs": [
    {
     "name": "stdout",
     "output_type": "stream",
     "text": [
      "empty list\n"
     ]
    }
   ],
   "source": [
    "a=[43,23,45,12,32,98]\n",
    "b=[]\n",
    "if len(b)==0:\n",
    "    print(\"empty list\")\n",
    "else:\n",
    "    print(\"nonempty\")"
   ]
  },
  {
   "cell_type": "code",
   "execution_count": 18,
   "id": "fdce76d1",
   "metadata": {},
   "outputs": [
    {
     "name": "stdout",
     "output_type": "stream",
     "text": [
      "[43, 23, 45, 12, 32, 98]\n"
     ]
    }
   ],
   "source": [
    "a=[43,23,45,12,32,98]\n",
    "b=a.copy()\n",
    "print(b)"
   ]
  },
  {
   "cell_type": "code",
   "execution_count": 20,
   "id": "0b79eed7",
   "metadata": {},
   "outputs": [
    {
     "name": "stdout",
     "output_type": "stream",
     "text": [
      "index of 12 =  3\n",
      "index of 98 =  5\n"
     ]
    }
   ],
   "source": [
    "a=[43,23,45,12,32,98]\n",
    "print(\"index of 12 = \",a.index(12))\n",
    "print(\"index of 98 = \",a.index(98))"
   ]
  },
  {
   "cell_type": "code",
   "execution_count": 23,
   "id": "7c668701",
   "metadata": {},
   "outputs": [
    {
     "name": "stdout",
     "output_type": "stream",
     "text": [
      "[1, 2, 3, 4, [43, 23, 45, 12, 32, 98]]\n"
     ]
    }
   ],
   "source": [
    "a=[43,23,45,12,32,98]\n",
    "b=[1,2,3,4]\n",
    "b.append(a)\n",
    "print(b) in "
   ]
  },
  {
   "cell_type": "code",
   "execution_count": 24,
   "id": "d401aecd",
   "metadata": {},
   "outputs": [
    {
     "name": "stdout",
     "output_type": "stream",
     "text": [
      "{32, 12, 23}\n"
     ]
    }
   ],
   "source": [
    "a=[43,23,45,12,32,98]\n",
    "b=[32,23,12,56,54,65]\n",
    "c=set(a)\n",
    "d=set(b)\n",
    "if(c&d):\n",
    "    print(c&d)\n",
    "    "
   ]
  },
  {
   "cell_type": "code",
   "execution_count": 33,
   "id": "b6ac0259",
   "metadata": {},
   "outputs": [
    {
     "name": "stdout",
     "output_type": "stream",
     "text": [
      "43\n",
      "23\n",
      "45\n"
     ]
    }
   ],
   "source": [
    "a=[43,23,45,12,32,98]\n",
    "for i in a:\n",
    "    if(i%2!=0):\n",
    "        print(i)\n",
    "\n",
    "    "
   ]
  },
  {
   "cell_type": "code",
   "execution_count": 34,
   "id": "c229828e",
   "metadata": {},
   "outputs": [
    {
     "name": "stdout",
     "output_type": "stream",
     "text": [
      "[43, 23, 45, 12, 32, 98, 1, 2, 3, 4]\n"
     ]
    }
   ],
   "source": [
    "a=[43,23,45,12,32,98]\n",
    "b=[1,2,3,4]\n",
    "print(a+b)"
   ]
  },
  {
   "cell_type": "raw",
   "id": "5b819801",
   "metadata": {},
   "source": [
    "\n"
   ]
  },
  {
   "cell_type": "code",
   "execution_count": 36,
   "id": "5bf25349",
   "metadata": {},
   "outputs": [
    {
     "name": "stdout",
     "output_type": "stream",
     "text": [
      "['abc', 'de', 'fg']\n"
     ]
    }
   ],
   "source": [
    "str=\"abc de fg\"\n",
    "li=str.split()\n",
    "print(li)"
   ]
  },
  {
   "cell_type": "code",
   "execution_count": 38,
   "id": "d55c1f62",
   "metadata": {},
   "outputs": [
    {
     "name": "stdout",
     "output_type": "stream",
     "text": [
      "[43, 23, 45, 12, 32, 98, 1, 2, 3, 4, 5]\n"
     ]
    }
   ],
   "source": [
    "a=[43,23,45,12,32,98]\n",
    "b=[1,2,3,4,5]\n",
    "a.extend(b)\n",
    "print(a)"
   ]
  },
  {
   "cell_type": "code",
   "execution_count": null,
   "id": "aff1f72d",
   "metadata": {},
   "outputs": [],
   "source": []
  }
 ],
 "metadata": {
  "kernelspec": {
   "display_name": "Python 3 (ipykernel)",
   "language": "python",
   "name": "python3"
  },
  "language_info": {
   "codemirror_mode": {
    "name": "ipython",
    "version": 3
   },
   "file_extension": ".py",
   "mimetype": "text/x-python",
   "name": "python",
   "nbconvert_exporter": "python",
   "pygments_lexer": "ipython3",
   "version": "3.9.12"
  }
 },
 "nbformat": 4,
 "nbformat_minor": 5
}
