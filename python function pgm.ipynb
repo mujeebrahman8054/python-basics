{
 "cells": [
  {
   "cell_type": "code",
   "execution_count": 1,
   "id": "49ac6511",
   "metadata": {},
   "outputs": [
    {
     "name": "stdout",
     "output_type": "stream",
     "text": [
      "addition and substraction (9, 1)\n"
     ]
    }
   ],
   "source": [
    "def calculation(a,b):\n",
    "    ss= a+b,a-b\n",
    "    return ss\n",
    "print(\"addition and substraction\",calculation(5,4))"
   ]
  },
  {
   "cell_type": "code",
   "execution_count": 2,
   "id": "a1a06efb",
   "metadata": {},
   "outputs": [
    {
     "name": "stdout",
     "output_type": "stream",
     "text": [
      "[1, 4, 9, 16, 25, 36, 49, 64, 81]\n"
     ]
    }
   ],
   "source": [
    " a=[1,2,3,4,5,6,7,8,9]\n",
    "sq=list(map(lambda n:n**2,a))\n",
    "print(sq)"
   ]
  },
  {
   "cell_type": "code",
   "execution_count": 3,
   "id": "35bf6895",
   "metadata": {},
   "outputs": [
    {
     "name": "stdout",
     "output_type": "stream",
     "text": [
      "employee name :mujeeb salary : 9000\n"
     ]
    }
   ],
   "source": [
    "def showEmployee(name,salary=9000):\n",
    "    print(\"employee name :\"+name+\" salary :\",salary)\n",
    "showEmployee(\"mujeeb\")    "
   ]
  },
  {
   "cell_type": "code",
   "execution_count": 29,
   "id": "cbed133c",
   "metadata": {},
   "outputs": [
    {
     "name": "stdout",
     "output_type": "stream",
     "text": [
      "how term 5\n",
      "fibonacci ser\n",
      "0\n",
      "1\n",
      "1\n",
      "2\n",
      "3\n"
     ]
    }
   ],
   "source": [
    "def fibonacci(n):\n",
    "    if(n<=1):\n",
    "        return n\n",
    "    else:\n",
    "        return(fibonacci(n-1)+fibonacci(n-2))\n",
    "nt=int(input(\"how term \"))\n",
    "if(nt<=0):\n",
    "    print(\"give positive integer\")\n",
    "else:\n",
    "    print(\"fibonacci ser\")\n",
    "    for i in range(nt):\n",
    "        print(fibonacci(i))"
   ]
  },
  {
   "cell_type": "code",
   "execution_count": 5,
   "id": "16bfa16e",
   "metadata": {},
   "outputs": [
    {
     "name": "stdout",
     "output_type": "stream",
     "text": [
      "factorial is : 120\n"
     ]
    }
   ],
   "source": [
    "def fact(x):\n",
    "    if x==1:\n",
    "        return(x)\n",
    "    else:\n",
    "        return(x*fact(x-1))\n",
    "print(\"factorial is :\",fact(5))    "
   ]
  },
  {
   "cell_type": "code",
   "execution_count": 6,
   "id": "1d33254e",
   "metadata": {},
   "outputs": [
    {
     "name": "stdout",
     "output_type": "stream",
     "text": [
      "division : (8.0,)\n"
     ]
    }
   ],
   "source": [
    "def div(a,b):\n",
    "    d=a/b,\n",
    "    return(d)\n",
    "print(\"division :\",div(16,2))"
   ]
  },
  {
   "cell_type": "code",
   "execution_count": 7,
   "id": "5105ad05",
   "metadata": {},
   "outputs": [
    {
     "name": "stdout",
     "output_type": "stream",
     "text": [
      "sum of natural numbers : 55\n"
     ]
    }
   ],
   "source": [
    "def nat(n):\n",
    "    if(n<1):\n",
    "        return(n)\n",
    "    else:\n",
    "        return(n+nat(n-1))\n",
    "print(\"sum of natural numbers :\",nat(10))        "
   ]
  },
  {
   "cell_type": "code",
   "execution_count": 30,
   "id": "647b5d99",
   "metadata": {},
   "outputs": [
    {
     "name": "stdout",
     "output_type": "stream",
     "text": [
      "153 is amstrong\n"
     ]
    }
   ],
   "source": [
    "sum=0\n",
    "def ams(n):\n",
    "    global sum\n",
    "    if(n!=0):\n",
    "        sum=sum+pow(n%10,3)\n",
    "        ams(n//10)\n",
    "    return(sum)\n",
    "a=153\n",
    "if(ams(n)==a):\n",
    "    print(n,\"is amstrong\")\n",
    "else:\n",
    "    print(n,\"is not amstrong\")\n"
   ]
  },
  {
   "cell_type": "code",
   "execution_count": null,
   "id": "6c40c9d3",
   "metadata": {},
   "outputs": [],
   "source": []
  },
  {
   "cell_type": "code",
   "execution_count": null,
   "id": "4e2fd2b8",
   "metadata": {},
   "outputs": [],
   "source": []
  }
 ],
 "metadata": {
  "kernelspec": {
   "display_name": "Python 3 (ipykernel)",
   "language": "python",
   "name": "python3"
  },
  "language_info": {
   "codemirror_mode": {
    "name": "ipython",
    "version": 3
   },
   "file_extension": ".py",
   "mimetype": "text/x-python",
   "name": "python",
   "nbconvert_exporter": "python",
   "pygments_lexer": "ipython3",
   "version": "3.9.12"
  }
 },
 "nbformat": 4,
 "nbformat_minor": 5
}
