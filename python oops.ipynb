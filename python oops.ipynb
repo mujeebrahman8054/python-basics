{
 "cells": [
  {
   "cell_type": "code",
   "execution_count": 11,
   "id": "ab039da8",
   "metadata": {},
   "outputs": [
    {
     "name": "stdout",
     "output_type": "stream",
     "text": [
      "bluu is a bird\n",
      "wooo is a bird\n",
      "bluu is a 10 years old\n",
      "wooo is a 13 years old\n"
     ]
    }
   ],
   "source": [
    "class parrot:\n",
    "    species=\"bird\" #class attribute\n",
    "    def __init__(self,name,age):\n",
    "        self.name=name\n",
    "        self.age=age\n",
    "blu=parrot(\"bluu\",10) #intentiate the parrot class\n",
    "woo=parrot(\"wooo\",13)\n",
    "#access the class attributes\n",
    "print(\"bluu is a {}\".format(blu.__class__.species))\n",
    "print(\"wooo is a {}\".format(woo.__class__.species))\n",
    "#access the instance attribute\n",
    "print(\"{} is a {} years old\".format(blu.name,blu.age))\n",
    "print(\"{} is a {} years old\".format(woo.name,woo.age))\n",
    "\n",
    "\n"
   ]
  },
  {
   "cell_type": "code",
   "execution_count": 9,
   "id": "738005f2",
   "metadata": {},
   "outputs": [],
   "source": [
    "#methods\n"
   ]
  },
  {
   "cell_type": "code",
   "execution_count": 5,
   "id": "921d0a69",
   "metadata": {},
   "outputs": [
    {
     "name": "stdout",
     "output_type": "stream",
     "text": [
      "bluu of 10 sings moolipatt \n",
      "bluu is now dancing\n"
     ]
    }
   ],
   "source": [
    "class parrot:\n",
    "    #instance attribute\n",
    "    def __init__(self,name,age):\n",
    "        self.name=name\n",
    "        self.age=age\n",
    "   #instance method\n",
    "    def sing(self,song):\n",
    "        return \"{} of {} sings {} \".format(self.name,self.age,song)\n",
    "    def dance(self):\n",
    "        return \"{} is now dancing\".format(self.name)\n",
    "    #instetiate the object\n",
    "blu=parrot(\"bluu\",10)\n",
    "    #call our instance methods\n",
    "print(blu.sing(\"moolipatt\"))\n",
    "print(blu.dance())"
   ]
  },
  {
   "cell_type": "code",
   "execution_count": 14,
   "id": "3f3f9546",
   "metadata": {},
   "outputs": [],
   "source": [
    "#inheritance"
   ]
  },
  {
   "cell_type": "code",
   "execution_count": 1,
   "id": "2b91e55d",
   "metadata": {},
   "outputs": [
    {
     "name": "stdout",
     "output_type": "stream",
     "text": [
      "bird is ready\n",
      "penguin is ready\n",
      "penguin\n",
      "swim faster\n",
      "run faster\n"
     ]
    }
   ],
   "source": [
    "#parent class\n",
    "class bird:\n",
    "    def __init__(self):\n",
    "        print(\"bird is ready\")\n",
    "    def whoisthis(self):\n",
    "        print(\"bird\")\n",
    "    def swim(self):\n",
    "        print(\"swim faster\")\n",
    "#child class\n",
    "class penguin(bird):\n",
    "    def __init__(self):\n",
    "        super().__init__()  #call super() function\n",
    "        print(\"penguin is ready\")\n",
    "    def whoisthis(self):\n",
    "        print(\"penguin\")\n",
    "    def run(self):\n",
    "        print(\"run faster\")\n",
    "peggy=penguin()\n",
    "peggy.whoisthis()\n",
    "peggy.swim()\n",
    "peggy.run()\n",
    "    "
   ]
  },
  {
   "cell_type": "code",
   "execution_count": 16,
   "id": "73ef167c",
   "metadata": {},
   "outputs": [],
   "source": [
    "#encapsulation"
   ]
  },
  {
   "cell_type": "code",
   "execution_count": 11,
   "id": "be4f9f67",
   "metadata": {},
   "outputs": [
    {
     "name": "stdout",
     "output_type": "stream",
     "text": [
      "selling price : 900\n",
      "selling price : 900\n",
      "selling price : 1000\n"
     ]
    }
   ],
   "source": [
    "class computer:\n",
    "    def __init__(self):\n",
    "        self.__maxprice=900\n",
    "    def sell(self):\n",
    "        print(\"selling price : {}\".format(self.__maxprice))\n",
    "    def setMaxPrice(self,price):\n",
    "        self.__maxprice=price\n",
    "c=computer()\n",
    "c.sell()\n",
    "#change the price\n",
    "c.__maxprice=1000\n",
    "c.sell()\n",
    "#using setter function\n",
    "c.setMaxPrice(1000)\n",
    "c.sell()"
   ]
  },
  {
   "cell_type": "code",
   "execution_count": 19,
   "id": "40dec5ce",
   "metadata": {},
   "outputs": [],
   "source": [
    "#polymorphism"
   ]
  },
  {
   "cell_type": "code",
   "execution_count": 25,
   "id": "7b62b55f",
   "metadata": {},
   "outputs": [
    {
     "name": "stdout",
     "output_type": "stream",
     "text": [
      "parrot can't swim\n",
      "penguin can swim\n"
     ]
    }
   ],
   "source": [
    "class parrot:\n",
    "    def fly(self):\n",
    "        print(\"parrot can fly\")\n",
    "    def swim(self):\n",
    "        print(\"parrot can't swim\")\n",
    "class penguin:\n",
    "    def fly(self):\n",
    "        print(\"penguin can't fly\")\n",
    "    def swim(self):\n",
    "        print(\"penguin can swim\")\n",
    "#common interface\n",
    "def flying_test(bird):\n",
    "    bird.swim()\n",
    "#instatiate object\n",
    "blu=parrot()\n",
    "peggy=penguin()\n",
    "#passing the object\n",
    "flying_test(blu)\n",
    "flying_test(peggy)\n",
    "    "
   ]
  },
  {
   "cell_type": "code",
   "execution_count": 12,
   "id": "b5f56e7a",
   "metadata": {},
   "outputs": [],
   "source": [
    "#constructors in python"
   ]
  },
  {
   "cell_type": "code",
   "execution_count": 24,
   "id": "e3a1073c",
   "metadata": {},
   "outputs": [
    {
     "name": "stdout",
     "output_type": "stream",
     "text": [
      "2+3j\n",
      "(5, 0, 10)\n"
     ]
    },
    {
     "ename": "AttributeError",
     "evalue": "'complexnumber' object has no attribute 'aatr'",
     "output_type": "error",
     "traceback": [
      "\u001b[1;31m---------------------------------------------------------------------------\u001b[0m",
      "\u001b[1;31mAttributeError\u001b[0m                            Traceback (most recent call last)",
      "Input \u001b[1;32mIn [24]\u001b[0m, in \u001b[0;36m<cell line: 12>\u001b[1;34m()\u001b[0m\n\u001b[0;32m     10\u001b[0m num2\u001b[38;5;241m.\u001b[39mattr\u001b[38;5;241m=\u001b[39m\u001b[38;5;241m10\u001b[39m\n\u001b[0;32m     11\u001b[0m \u001b[38;5;28mprint\u001b[39m((num2\u001b[38;5;241m.\u001b[39mreal,num2\u001b[38;5;241m.\u001b[39mimag,num2\u001b[38;5;241m.\u001b[39mattr))\n\u001b[1;32m---> 12\u001b[0m \u001b[38;5;28mprint\u001b[39m(\u001b[43mnum1\u001b[49m\u001b[38;5;241;43m.\u001b[39;49m\u001b[43maatr\u001b[49m)\n",
      "\u001b[1;31mAttributeError\u001b[0m: 'complexnumber' object has no attribute 'aatr'"
     ]
    }
   ],
   "source": [
    "class complexnumber:\n",
    "    def __init__(self,r=0,i=0):\n",
    "        self.real=r\n",
    "        self.imag=i\n",
    "    def getdata(self):\n",
    "        print(f'{self.real}+{self.imag}j')\n",
    "num1=complexnumber(2,3)\n",
    "num1.getdata()\n",
    "num2=complexnumber(5)\n",
    "num2.attr=10\n",
    "print((num2.real,num2.imag,num2.attr))\n",
    "print(num1.aatr)"
   ]
  },
  {
   "cell_type": "code",
   "execution_count": null,
   "id": "347aa831",
   "metadata": {},
   "outputs": [],
   "source": []
  },
  {
   "cell_type": "code",
   "execution_count": null,
   "id": "d78ff13a",
   "metadata": {},
   "outputs": [],
   "source": []
  }
 ],
 "metadata": {
  "kernelspec": {
   "display_name": "Python 3 (ipykernel)",
   "language": "python",
   "name": "python3"
  },
  "language_info": {
   "codemirror_mode": {
    "name": "ipython",
    "version": 3
   },
   "file_extension": ".py",
   "mimetype": "text/x-python",
   "name": "python",
   "nbconvert_exporter": "python",
   "pygments_lexer": "ipython3",
   "version": "3.9.12"
  }
 },
 "nbformat": 4,
 "nbformat_minor": 5
}
