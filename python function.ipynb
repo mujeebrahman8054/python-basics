{
 "cells": [
  {
   "cell_type": "code",
   "execution_count": 14,
   "id": "0de5b2ca",
   "metadata": {},
   "outputs": [
    {
     "name": "stdout",
     "output_type": "stream",
     "text": [
      "hello mujeeb goodmorning\n",
      "this function greets to a person in as a parameter\n"
     ]
    }
   ],
   "source": [
    "def myfun(name):\n",
    "    \"\"\"this function greets to a person in as a parameter\"\"\"\n",
    "    print(\"hello \"+name+\" goodmorning\")\n",
    "myfun(\"mujeeb\")\n",
    "print(myfun.__doc__)"
   ]
  },
  {
   "cell_type": "code",
   "execution_count": 15,
   "id": "4561b77e",
   "metadata": {},
   "outputs": [
    {
     "name": "stdout",
     "output_type": "stream",
     "text": [
      "2\n",
      "3\n"
     ]
    }
   ],
   "source": [
    "#return statement in function\n",
    "def absolute_value(num):\n",
    "    if num>=0:\n",
    "        return num\n",
    "    else:\n",
    "        return -num\n",
    "print(absolute_value(2))\n",
    "print(absolute_value(-3))\n",
    "\n"
   ]
  },
  {
   "cell_type": "code",
   "execution_count": 16,
   "id": "64138d96",
   "metadata": {},
   "outputs": [
    {
     "name": "stdout",
     "output_type": "stream",
     "text": [
      "local variable value : 10\n",
      "global variable value : 30\n"
     ]
    }
   ],
   "source": [
    "#local and global variables in function\n",
    "def my_f():\n",
    "    x=10\n",
    "    print(\"local variable value :\",x)\n",
    "x=30\n",
    "my_f()\n",
    "print(\"global variable value :\",x)"
   ]
  },
  {
   "cell_type": "code",
   "execution_count": 18,
   "id": "4de45702",
   "metadata": {},
   "outputs": [
    {
     "name": "stdout",
     "output_type": "stream",
     "text": [
      "sum : 110\n"
     ]
    }
   ],
   "source": [
    "#example of user defined function\n",
    "def add(a,b):\n",
    "    sum=a+b\n",
    "    return sum\n",
    "num1=67\n",
    "num2=43\n",
    "print(\"sum :\",add(num1,num2))"
   ]
  },
  {
   "cell_type": "code",
   "execution_count": 30,
   "id": "683ddea3",
   "metadata": {},
   "outputs": [
    {
     "name": "stdout",
     "output_type": "stream",
     "text": [
      "my name :mujeeb and my age : 25\n"
     ]
    }
   ],
   "source": [
    "#arguements\n",
    "def arg(name,age):\n",
    "    print(\"my name :\"+name+\" and my age :\",age)\n",
    "arg(\"mujeeb\",25)    "
   ]
  },
  {
   "cell_type": "code",
   "execution_count": 33,
   "id": "e48b885b",
   "metadata": {},
   "outputs": [
    {
     "name": "stdout",
     "output_type": "stream",
     "text": [
      "my name is :mujeeb age is : 25\n"
     ]
    }
   ],
   "source": [
    "#default arguements\n",
    "def darg(name,age=25):\n",
    "    print(\"my name is :\"+name+\" age is :\",age)\n",
    "darg(\"mujeeb\")"
   ]
  },
  {
   "cell_type": "code",
   "execution_count": 35,
   "id": "c2ee51e0",
   "metadata": {},
   "outputs": [
    {
     "name": "stdout",
     "output_type": "stream",
     "text": [
      "my name is :mujeeb age is : 25\n"
     ]
    }
   ],
   "source": [
    "#keyword arguements\n",
    "def karg(name,age): #two keyword arguements\n",
    "    print(\"my name is :\"+name+\" age is :\",age)\n",
    "karg(name=\"mujeeb\",age=25)    "
   ]
  },
  {
   "cell_type": "code",
   "execution_count": 36,
   "id": "c8404cff",
   "metadata": {},
   "outputs": [
    {
     "name": "stdout",
     "output_type": "stream",
     "text": [
      "my name is :mujeeb age is : 25\n"
     ]
    }
   ],
   "source": [
    "def karg(name,age): #two keyword arguements with out of order\n",
    "    print(\"my name is :\"+name+\" age is :\",age)\n",
    "karg(age=25,name=\"mujeeb\")  "
   ]
  },
  {
   "cell_type": "code",
   "execution_count": 37,
   "id": "4d0da449",
   "metadata": {},
   "outputs": [
    {
     "name": "stdout",
     "output_type": "stream",
     "text": [
      "my name is :mujeeb age is : 25\n"
     ]
    }
   ],
   "source": [
    "def karg(name,age): #two keyword arguements 1 positional and 1 keyword arguement\n",
    "    print(\"my name is :\"+name+\" age is :\",age)\n",
    "karg(\"mujeeb\",age=25)  "
   ]
  },
  {
   "cell_type": "code",
   "execution_count": 38,
   "id": "ef4905a8",
   "metadata": {},
   "outputs": [
    {
     "ename": "SyntaxError",
     "evalue": "positional argument follows keyword argument (320885187.py, line 3)",
     "output_type": "error",
     "traceback": [
      "\u001b[1;36m  Input \u001b[1;32mIn [38]\u001b[1;36m\u001b[0m\n\u001b[1;33m    karg(name=\"mujeeb\",25)\u001b[0m\n\u001b[1;37m                         ^\u001b[0m\n\u001b[1;31mSyntaxError\u001b[0m\u001b[1;31m:\u001b[0m positional argument follows keyword argument\n"
     ]
    }
   ],
   "source": [
    "def karg(name,age): #two keyword arguements 1 keyword and 1 positional\n",
    "    print(\"my name is :\"+name+\" age is :\",age)\n",
    "karg(name=\"mujeeb\",25)  "
   ]
  },
  {
   "cell_type": "code",
   "execution_count": 40,
   "id": "6779e126",
   "metadata": {},
   "outputs": [
    {
     "name": "stdout",
     "output_type": "stream",
     "text": [
      "factorial of  5  is  120\n"
     ]
    }
   ],
   "source": [
    "#recusive function\n",
    "def factorial(x):\n",
    "    if x==1:\n",
    "        return 1\n",
    "    else:\n",
    "        return(x*factorial(x-1))\n",
    "print(\"factorial of \",5,\" is \",factorial(5))    "
   ]
  },
  {
   "cell_type": "code",
   "execution_count": 42,
   "id": "96ea14b6",
   "metadata": {},
   "outputs": [
    {
     "name": "stdout",
     "output_type": "stream",
     "text": [
      "15\n"
     ]
    }
   ],
   "source": [
    "#lambda function\n",
    "a=lambda n:n*3\n",
    "print(a(5))"
   ]
  },
  {
   "cell_type": "code",
   "execution_count": 43,
   "id": "e7deea15",
   "metadata": {},
   "outputs": [
    {
     "name": "stdout",
     "output_type": "stream",
     "text": [
      "[2, 4, 6, 8, 10, 12]\n"
     ]
    }
   ],
   "source": [
    "#map funtion in lambda\n",
    "myli=[1,2,3,4,5,6]\n",
    "nli=list(map(lambda n:n*2,myli))\n",
    "print(nli)"
   ]
  },
  {
   "cell_type": "code",
   "execution_count": 44,
   "id": "e4e5d5eb",
   "metadata": {},
   "outputs": [
    {
     "name": "stdout",
     "output_type": "stream",
     "text": [
      "[2, 4, 54, 32]\n"
     ]
    }
   ],
   "source": [
    "#filter function in lambda\n",
    "mylis=[1,3,2,4,54,32,11]\n",
    "nmli=list(filter(lambda n:(n%2==0),mylis))\n",
    "print(nmli)"
   ]
  },
  {
   "cell_type": "code",
   "execution_count": 61,
   "id": "56678021",
   "metadata": {},
   "outputs": [
    {
     "name": "stdout",
     "output_type": "stream",
     "text": [
      "x inside global\n",
      "x out : global\n"
     ]
    }
   ],
   "source": [
    "#global variable access\n",
    "x=\"global\"\n",
    "def acc():\n",
    "    print(\"x inside\",x)\n",
    "acc()\n",
    "print(\"x out :\",x)"
   ]
  },
  {
   "cell_type": "code",
   "execution_count": 53,
   "id": "f2fe0258",
   "metadata": {},
   "outputs": [
    {
     "ename": "UnboundLocalError",
     "evalue": "local variable 'x' referenced before assignment",
     "output_type": "error",
     "traceback": [
      "\u001b[1;31m---------------------------------------------------------------------------\u001b[0m",
      "\u001b[1;31mUnboundLocalError\u001b[0m                         Traceback (most recent call last)",
      "Input \u001b[1;32mIn [53]\u001b[0m, in \u001b[0;36m<cell line: 5>\u001b[1;34m()\u001b[0m\n\u001b[0;32m      3\u001b[0m     x\u001b[38;5;241m=\u001b[39mx\u001b[38;5;241m*\u001b[39m\u001b[38;5;241m2\u001b[39m\n\u001b[0;32m      4\u001b[0m     \u001b[38;5;28mprint\u001b[39m(x)\n\u001b[1;32m----> 5\u001b[0m \u001b[43macc\u001b[49m\u001b[43m(\u001b[49m\u001b[43m)\u001b[49m\n",
      "Input \u001b[1;32mIn [53]\u001b[0m, in \u001b[0;36macc\u001b[1;34m()\u001b[0m\n\u001b[0;32m      2\u001b[0m \u001b[38;5;28;01mdef\u001b[39;00m \u001b[38;5;21macc\u001b[39m():\n\u001b[1;32m----> 3\u001b[0m     x\u001b[38;5;241m=\u001b[39m\u001b[43mx\u001b[49m\u001b[38;5;241m*\u001b[39m\u001b[38;5;241m2\u001b[39m\n\u001b[0;32m      4\u001b[0m     \u001b[38;5;28mprint\u001b[39m(x)\n",
      "\u001b[1;31mUnboundLocalError\u001b[0m: local variable 'x' referenced before assignment"
     ]
    }
   ],
   "source": [
    "x=\"global\"\n",
    "def acc():\n",
    "    x=x*2\n",
    "    print(x)\n",
    "acc()"
   ]
  },
  {
   "cell_type": "code",
   "execution_count": 54,
   "id": "49198797",
   "metadata": {},
   "outputs": [
    {
     "name": "stdout",
     "output_type": "stream",
     "text": [
      "globalglobal\n"
     ]
    }
   ],
   "source": [
    " x=\"global\"\n",
    "def acc():\n",
    "    global x\n",
    "    x=x*2\n",
    "    print(x)\n",
    "acc()"
   ]
  },
  {
   "cell_type": "code",
   "execution_count": 58,
   "id": "eed85a6d",
   "metadata": {},
   "outputs": [
    {
     "name": "stdout",
     "output_type": "stream",
     "text": [
      "inside : 2\n",
      "main 2\n"
     ]
    }
   ],
   "source": [
    "c=0\n",
    "def add():\n",
    "    global c\n",
    "    c=c+2\n",
    "    print(\"inside :\",c)\n",
    "add()\n",
    "print(\"main\",c)  "
   ]
  },
  {
   "cell_type": "code",
   "execution_count": 60,
   "id": "0cf7dca5",
   "metadata": {
    "scrolled": true
   },
   "outputs": [
    {
     "ename": "NameError",
     "evalue": "name 'y' is not defined",
     "output_type": "error",
     "traceback": [
      "\u001b[1;31m---------------------------------------------------------------------------\u001b[0m",
      "\u001b[1;31mNameError\u001b[0m                                 Traceback (most recent call last)",
      "Input \u001b[1;32mIn [60]\u001b[0m, in \u001b[0;36m<cell line: 5>\u001b[1;34m()\u001b[0m\n\u001b[0;32m      3\u001b[0m     y\u001b[38;5;241m=\u001b[39m\u001b[38;5;124m\"\u001b[39m\u001b[38;5;124mlocal\u001b[39m\u001b[38;5;124m\"\u001b[39m\n\u001b[0;32m      4\u001b[0m loc()\n\u001b[1;32m----> 5\u001b[0m \u001b[38;5;28mprint\u001b[39m(\u001b[43my\u001b[49m)\n",
      "\u001b[1;31mNameError\u001b[0m: name 'y' is not defined"
     ]
    }
   ],
   "source": [
    "#accessing local variable outside the scope\n",
    "def loc():\n",
    "    y=\"local\"\n",
    "loc()\n",
    "print(y)    "
   ]
  },
  {
   "cell_type": "code",
   "execution_count": 62,
   "id": "5e7f23a3",
   "metadata": {},
   "outputs": [
    {
     "name": "stdout",
     "output_type": "stream",
     "text": [
      "globalglobal\n",
      "local\n"
     ]
    }
   ],
   "source": [
    "x=\"global\"\n",
    "def gloc():\n",
    "    global x\n",
    "    y=\"local\"\n",
    "    x=x*2\n",
    "    print(x)\n",
    "    print(y)\n",
    "gloc()    "
   ]
  },
  {
   "cell_type": "code",
   "execution_count": 63,
   "id": "383342c9",
   "metadata": {},
   "outputs": [],
   "source": [
    "#python modules "
   ]
  },
  {
   "cell_type": "code",
   "execution_count": 64,
   "id": "2273d0f0",
   "metadata": {},
   "outputs": [
    {
     "name": "stdout",
     "output_type": "stream",
     "text": [
      "value od pi : 3.141592653589793\n"
     ]
    }
   ],
   "source": [
    "import math\n",
    "print(\"value od pi :\",math.pi)"
   ]
  },
  {
   "cell_type": "code",
   "execution_count": 65,
   "id": "7a05df9b",
   "metadata": {},
   "outputs": [
    {
     "ename": "SyntaxError",
     "evalue": "invalid syntax (2878380840.py, line 2)",
     "output_type": "error",
     "traceback": [
      "\u001b[1;36m  Input \u001b[1;32mIn [65]\u001b[1;36m\u001b[0m\n\u001b[1;33m    print(\"value of pi :\"m.pi)\u001b[0m\n\u001b[1;37m                         ^\u001b[0m\n\u001b[1;31mSyntaxError\u001b[0m\u001b[1;31m:\u001b[0m invalid syntax\n"
     ]
    }
   ],
   "source": [
    "import math as m\n",
    "print(\"value of pi :\"m.pi)"
   ]
  },
  {
   "cell_type": "code",
   "execution_count": 66,
   "id": "0dbca030",
   "metadata": {},
   "outputs": [
    {
     "name": "stdout",
     "output_type": "stream",
     "text": [
      "3.141592653589793\n"
     ]
    }
   ],
   "source": [
    "from math import pi\n",
    "print(pi)"
   ]
  },
  {
   "cell_type": "code",
   "execution_count": 67,
   "id": "4fa3b2b2",
   "metadata": {},
   "outputs": [],
   "source": [
    "#python packages"
   ]
  },
  {
   "cell_type": "code",
   "execution_count": null,
   "id": "a59d28f4",
   "metadata": {},
   "outputs": [],
   "source": [
    "import game.level.start\n"
   ]
  }
 ],
 "metadata": {
  "kernelspec": {
   "display_name": "Python 3 (ipykernel)",
   "language": "python",
   "name": "python3"
  },
  "language_info": {
   "codemirror_mode": {
    "name": "ipython",
    "version": 3
   },
   "file_extension": ".py",
   "mimetype": "text/x-python",
   "name": "python",
   "nbconvert_exporter": "python",
   "pygments_lexer": "ipython3",
   "version": "3.9.12"
  }
 },
 "nbformat": 4,
 "nbformat_minor": 5
}
