{
 "cells": [
  {
   "cell_type": "code",
   "execution_count": 6,
   "id": "3b0ede47",
   "metadata": {},
   "outputs": [
    {
     "name": "stdout",
     "output_type": "stream",
     "text": [
      "('1', '2', '3', '4', '5', 'e', 'r', 'w')\n"
     ]
    }
   ],
   "source": [
    "a=\"12345\"\n",
    "b=tuple(a)\n",
    "print(b)"
   ]
  },
  {
   "cell_type": "code",
   "execution_count": 8,
   "id": "23257716",
   "metadata": {},
   "outputs": [
    {
     "name": "stdout",
     "output_type": "stream",
     "text": [
      "('1', '2', 'f', 'r', 'd', 'e', 's', 'd', 'h', '1', '3', '4', '5')\n"
     ]
    }
   ],
   "source": [
    "a=\"12frdesdh1345\"\n",
    "b=tuple(a)\n",
    "print(b)"
   ]
  },
  {
   "cell_type": "code",
   "execution_count": 9,
   "id": "36294247",
   "metadata": {},
   "outputs": [
    {
     "name": "stdout",
     "output_type": "stream",
     "text": [
      "(1, 2, 3, 4, 8, 6)\n"
     ]
    }
   ],
   "source": [
    "t2=1,2,3,4,8,6\n",
    "print(t2)"
   ]
  },
  {
   "cell_type": "code",
   "execution_count": 10,
   "id": "b6ff18d7",
   "metadata": {},
   "outputs": [
    {
     "name": "stdout",
     "output_type": "stream",
     "text": [
      "(12, 34, 'tr')\n"
     ]
    }
   ],
   "source": [
    "t3=(12,34,\"tr\")\n",
    "a,b,c=t3\n",
    "print(t3)"
   ]
  },
  {
   "cell_type": "code",
   "execution_count": 13,
   "id": "5814dcce",
   "metadata": {},
   "outputs": [
    {
     "name": "stdout",
     "output_type": "stream",
     "text": [
      "(23, 41, 56, 67, 34)\n"
     ]
    }
   ],
   "source": [
    "t4=(23,41,56,67)\n",
    "li=list(t4)\n",
    "li.append(34)\n",
    "t4=tuple(li)\n",
    "print(t4)"
   ]
  },
  {
   "cell_type": "code",
   "execution_count": 14,
   "id": "a611a7e0",
   "metadata": {},
   "outputs": [
    {
     "name": "stdout",
     "output_type": "stream",
     "text": [
      "tuple is  ('s', 't', 'r', 'i', 'n', 'g')\n",
      "string\n"
     ]
    }
   ],
   "source": [
    "t5=(\"s\",\"t\",\"r\",\"i\",\"n\",\"g\")\n",
    "print(\"tuple is \",t5)\n",
    "str=\"\".join(t5)\n",
    "print(str)"
   ]
  },
  {
   "cell_type": "code",
   "execution_count": 15,
   "id": "0eaebee1",
   "metadata": {},
   "outputs": [
    {
     "name": "stdout",
     "output_type": "stream",
     "text": [
      "(2, 3, 4, 4, 2, 3)\n"
     ]
    }
   ],
   "source": [
    "a=[2,3,4,4,2,3]\n",
    "b=tuple(a)\n",
    "print(b)"
   ]
  },
  {
   "cell_type": "code",
   "execution_count": 16,
   "id": "0e29ffca",
   "metadata": {},
   "outputs": [
    {
     "data": {
      "text/plain": [
       "6"
      ]
     },
     "execution_count": 16,
     "metadata": {},
     "output_type": "execute_result"
    }
   ],
   "source": [
    "t6=(2, 3, 4, 4, 2, 3)\n",
    "len(t6)"
   ]
  },
  {
   "cell_type": "code",
   "execution_count": 19,
   "id": "605a6e36",
   "metadata": {},
   "outputs": [
    {
     "name": "stdout",
     "output_type": "stream",
     "text": [
      "(3, 2, 4, 4, 3, 2)\n"
     ]
    }
   ],
   "source": [
    "t6=(2, 3, 4, 4, 2, 3)\n",
    "print(t6[::-1])"
   ]
  },
  {
   "cell_type": "code",
   "execution_count": null,
   "id": "922b7ed1",
   "metadata": {},
   "outputs": [],
   "source": []
  }
 ],
 "metadata": {
  "kernelspec": {
   "display_name": "Python 3 (ipykernel)",
   "language": "python",
   "name": "python3"
  },
  "language_info": {
   "codemirror_mode": {
    "name": "ipython",
    "version": 3
   },
   "file_extension": ".py",
   "mimetype": "text/x-python",
   "name": "python",
   "nbconvert_exporter": "python",
   "pygments_lexer": "ipython3",
   "version": "3.9.12"
  }
 },
 "nbformat": 4,
 "nbformat_minor": 5
}
