{
 "cells": [
  {
   "cell_type": "code",
   "execution_count": 1,
   "id": "ee113c2a",
   "metadata": {},
   "outputs": [
    {
     "name": "stdout",
     "output_type": "stream",
     "text": [
      "('apple', 'banana', 'cherry', 'banana')\n"
     ]
    }
   ],
   "source": [
    "t=(\"apple\",\"banana\",\"cherry\",\"banana\")\n",
    "print(t)"
   ]
  },
  {
   "cell_type": "code",
   "execution_count": 2,
   "id": "2fcf93c9",
   "metadata": {},
   "outputs": [
    {
     "data": {
      "text/plain": [
       "6"
      ]
     },
     "execution_count": 2,
     "metadata": {},
     "output_type": "execute_result"
    }
   ],
   "source": [
    "t1=(10,20,30,40,50,60)\n",
    "len(t1)"
   ]
  },
  {
   "cell_type": "code",
   "execution_count": 3,
   "id": "99dcd99e",
   "metadata": {},
   "outputs": [
    {
     "data": {
      "text/plain": [
       "90"
      ]
     },
     "execution_count": 3,
     "metadata": {},
     "output_type": "execute_result"
    }
   ],
   "source": [
    "t1=(10,20,30,40,(70,80,90),50,60)\n",
    "len(t1)\n",
    "t1[4][2]"
   ]
  },
  {
   "cell_type": "code",
   "execution_count": 4,
   "id": "42cba32a",
   "metadata": {},
   "outputs": [
    {
     "name": "stdout",
     "output_type": "stream",
     "text": [
      "('p', 'y', 't', 'h', 'o', 'n')\n"
     ]
    }
   ],
   "source": [
    "t2=tuple('python')\n",
    "print(t2)"
   ]
  },
  {
   "cell_type": "code",
   "execution_count": 5,
   "id": "340f3e09",
   "metadata": {},
   "outputs": [
    {
     "name": "stdout",
     "output_type": "stream",
     "text": [
      "(12, 23, 4, 3, 4)\n"
     ]
    }
   ],
   "source": [
    "li=[12,23,4,3,4]\n",
    "t3=tuple(li)\n",
    "print(t3)"
   ]
  },
  {
   "cell_type": "code",
   "execution_count": 6,
   "id": "94bcb44d",
   "metadata": {},
   "outputs": [
    {
     "name": "stdout",
     "output_type": "stream",
     "text": [
      "enter the elements54,43,56\n",
      "('5', '4', ',', '4', '3', ',', '5', '6')\n"
     ]
    }
   ],
   "source": [
    "t4=tuple(input(\"enter the elements\"))\n",
    "print(t4)"
   ]
  },
  {
   "cell_type": "code",
   "execution_count": null,
   "id": "798ffaf8",
   "metadata": {},
   "outputs": [],
   "source": [
    "t5=eval(input(\"enter the elements\"))\n",
    "print(t5)"
   ]
  },
  {
   "cell_type": "code",
   "execution_count": null,
   "id": "22ddc179",
   "metadata": {},
   "outputs": [],
   "source": [
    "t6=(\"apple\",\"banana\",\"cherry\",\"banana\")\n",
    "for i in t6:\n",
    "    print(i)"
   ]
  },
  {
   "cell_type": "code",
   "execution_count": null,
   "id": "27f8621b",
   "metadata": {},
   "outputs": [],
   "source": [
    "t7=(10,29,39)\n",
    "t8=(\"w\",\"e\")\n",
    "t9=t8+t7\n",
    "print(t9)"
   ]
  },
  {
   "cell_type": "code",
   "execution_count": null,
   "id": "a874fdd7",
   "metadata": {},
   "outputs": [],
   "source": [
    "t7=(10,29,39)\n",
    "t7+(54,)"
   ]
  },
  {
   "cell_type": "code",
   "execution_count": null,
   "id": "0b36410e",
   "metadata": {},
   "outputs": [],
   "source": [
    "t7=(10,29,39)\n",
    "t7*4"
   ]
  },
  {
   "cell_type": "code",
   "execution_count": null,
   "id": "fb7478af",
   "metadata": {},
   "outputs": [],
   "source": [
    "t1=(10,20,30,40,50,60)\n",
    "td=t1[2:4]\n",
    "print(td)"
   ]
  },
  {
   "cell_type": "code",
   "execution_count": null,
   "id": "d4bf549e",
   "metadata": {},
   "outputs": [],
   "source": [
    "t1=(10,20,30,40,50,60)\n",
    "td=t1[1:-1]\n",
    "print(td)\n"
   ]
  },
  {
   "cell_type": "code",
   "execution_count": null,
   "id": "95762d54",
   "metadata": {},
   "outputs": [],
   "source": [
    "t1=(10,20,30,40,50,60)\n",
    "td=t1[0:6:2]\n",
    "print(td)"
   ]
  },
  {
   "cell_type": "code",
   "execution_count": null,
   "id": "f4eea20d",
   "metadata": {},
   "outputs": [],
   "source": [
    "t1=(10,20,30,40,50,60)\n",
    "td=t1[::-1]\n",
    "print(td)"
   ]
  },
  {
   "cell_type": "code",
   "execution_count": null,
   "id": "6f2c5fa5",
   "metadata": {},
   "outputs": [],
   "source": [
    "t1=(10,20,30,40,50,60)\n",
    "td=t1[::-2]\n",
    "print(td)"
   ]
  },
  {
   "cell_type": "code",
   "execution_count": null,
   "id": "caff79d2",
   "metadata": {},
   "outputs": [],
   "source": [
    "a=(12,24)\n",
    "b=(12,24)\n",
    "c=(24,12)\n",
    "d=(24,10)\n",
    "c<d"
   ]
  },
  {
   "cell_type": "code",
   "execution_count": null,
   "id": "796d4130",
   "metadata": {},
   "outputs": [],
   "source": [
    "t1=(10,20,30,40,50,60)\n",
    "print(t1)"
   ]
  },
  {
   "cell_type": "code",
   "execution_count": null,
   "id": "36287bf1",
   "metadata": {},
   "outputs": [],
   "source": [
    "del t1\n",
    "print(t1)"
   ]
  },
  {
   "cell_type": "code",
   "execution_count": null,
   "id": "7e57bdf9",
   "metadata": {},
   "outputs": [],
   "source": [
    "t1=(10,20,30,40,50,60)\n",
    "len(t1)"
   ]
  },
  {
   "cell_type": "code",
   "execution_count": null,
   "id": "beb5edf0",
   "metadata": {},
   "outputs": [],
   "source": [
    "t1=(10,20,30,40,50,60)\n",
    "max(t1)"
   ]
  },
  {
   "cell_type": "code",
   "execution_count": null,
   "id": "d32b5dfe",
   "metadata": {},
   "outputs": [],
   "source": [
    "t1=(10,20,30,40,50,60)\n",
    "min(t1)"
   ]
  },
  {
   "cell_type": "code",
   "execution_count": null,
   "id": "83c0b1a2",
   "metadata": {},
   "outputs": [],
   "source": [
    "t1=(10,20,30,40,50,60)\n",
    "max(t1)"
   ]
  },
  {
   "cell_type": "code",
   "execution_count": null,
   "id": "7d90020e",
   "metadata": {},
   "outputs": [],
   "source": [
    "t11=(12,23,45)\n",
    "a,b,c=t11\n",
    "c=56\n",
    "t11=(a,b,c)\n",
    "print(t11)"
   ]
  },
  {
   "cell_type": "code",
   "execution_count": null,
   "id": "df4dce97",
   "metadata": {},
   "outputs": [],
   "source": [
    "fruits=(\"apple\",\"banana\",\"mango\",\"guava\")\n",
    "lifrt=list(fruits)\n",
    "lifrt[2]=\"grape\"\n",
    "fruits=tuple(lifrt)\n",
    "print(fruits)"
   ]
  },
  {
   "cell_type": "code",
   "execution_count": null,
   "id": "d7a69b64",
   "metadata": {},
   "outputs": [],
   "source": []
  }
 ],
 "metadata": {
  "kernelspec": {
   "display_name": "Python 3 (ipykernel)",
   "language": "python",
   "name": "python3"
  },
  "language_info": {
   "codemirror_mode": {
    "name": "ipython",
    "version": 3
   },
   "file_extension": ".py",
   "mimetype": "text/x-python",
   "name": "python",
   "nbconvert_exporter": "python",
   "pygments_lexer": "ipython3",
   "version": "3.9.12"
  }
 },
 "nbformat": 4,
 "nbformat_minor": 5
}
